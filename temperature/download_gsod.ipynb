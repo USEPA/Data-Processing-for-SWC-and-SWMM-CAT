{
 "cells": [
  {
   "cell_type": "code",
   "execution_count": null,
   "metadata": {},
   "outputs": [],
   "source": [
    "import os,sys;\n",
    "import ftplib;\n",
    "import datetime;\n",
    "from dateutil.rrule import rrule,DAILY,YEARLY;\n",
    "\n",
    "start_date  = datetime.date(1990,1,1);\n",
    "end_date    = datetime.date(2020,12,31);\n",
    "ftp_email   = 'Dziemiela.Paul@epa.gov';\n",
    "\n",
    "target_dir   = os.getcwd() + os.sep + 'gsod';\n",
    "\n",
    "if not os.path.exists(target_dir):\n",
    "    os.mkdir(target_dir);\n",
    "    "
   ]
  },
  {
   "cell_type": "code",
   "execution_count": null,
   "metadata": {},
   "outputs": [],
   "source": [
    "%%time\n",
    "\n",
    "# Change this boolean to True in order to overwrite existing zipfiles\n",
    "overwrite = False;\n",
    "\n",
    "ftp = ftplib.FTP('ftp.ncdc.noaa.gov'); \n",
    "ftp.login('anonymous',ftp_email); \n",
    "\n",
    "for yr in rrule(\n",
    "     freq    = YEARLY\n",
    "    ,dtstart = start_date\n",
    "    ,until   = end_date\n",
    "):\n",
    "    ftp.cwd('/pub/data/gsod/' + yr.strftime(\"%Y\"));\n",
    "    \n",
    "    fn = 'gsod_'+ yr.strftime(\"%Y\") + '.tar';\n",
    "    tg = target_dir + os.sep + fn;\n",
    "    if overwrite or not os.path.exists(tg):\n",
    "        ftp.retrbinary(\"RETR \" + fn,open(tg,'wb').write);\n",
    "        \n",
    "ftp.quit();\n"
   ]
  },
  {
   "cell_type": "code",
   "execution_count": null,
   "metadata": {},
   "outputs": [],
   "source": [
    "%%time\n",
    "\n",
    "for filename in os.listdir(indir80020):\n",
    "    if filename.endswith(\".gz\"):\n",
    "        \n",
    "        with gzip.open(indir80020 + os.sep + filename,'rb') as gzin:\n",
    "            with open(outdir80020 + os.sep + filename.replace('.gz',''),'wb') as tout:\n",
    "                shutil.copyfileobj(gzin,tout);\n",
    "                \n",
    "        if os.stat(outdir80020 + os.sep + filename.replace('.gz','')).st_size == 0:\n",
    "            os.remove(outdir80020 + os.sep + filename.replace('.gz',''));\n",
    "            "
   ]
  }
 ],
 "metadata": {
  "kernelspec": {
   "display_name": "Python 3",
   "language": "python",
   "name": "python3"
  },
  "language_info": {
   "codemirror_mode": {
    "name": "ipython",
    "version": 3
   },
   "file_extension": ".py",
   "mimetype": "text/x-python",
   "name": "python",
   "nbconvert_exporter": "python",
   "pygments_lexer": "ipython3",
   "version": "3.7.10"
  }
 },
 "nbformat": 4,
 "nbformat_minor": 4
}
