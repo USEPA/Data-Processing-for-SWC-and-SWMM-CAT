{
 "cells": [
  {
   "cell_type": "code",
   "execution_count": 2,
   "metadata": {},
   "outputs": [
    {
     "name": "stdout",
     "output_type": "stream",
     "text": [
      "  Initial SWC Station Universe Count: 5144\n"
     ]
    }
   ],
   "source": [
    "import arcpy;\n",
    "import os,sys;\n",
    "import requests;\n",
    "\n",
    "start_date  = datetime.date(1990,1,1);\n",
    "end_date    = datetime.date(2020,12,31);\n",
    "\n",
    "results_fgdb = os.getcwd() + os.sep + '..'+ os.sep + 'results.gdb';\n",
    "target_dir   = os.getcwd() + os.sep + 'nldas';\n",
    "\n",
    "if not os.path.exists(target_dir):\n",
    "    os.mkdir(target_dir);\n",
    "\n",
    "stations = results_fgdb  + os.sep + 'SWC_Station_Universe';\n",
    "stations_cnt = arcpy.GetCount_management(stations)[0];\n",
    "print(\"  Initial SWC Station Universe Count: \" + str(stations_cnt));\n"
   ]
  },
  {
   "cell_type": "code",
   "execution_count": 3,
   "metadata": {},
   "outputs": [],
   "source": [
    "class NLDAS:\n",
    "    DEGREES_PER_GRID_CELL = 1.0 / 8.0\n",
    "    WESTMOST_GRID_EDGE = -125.0\n",
    "    SOUTHMOST_GRID_EDGE = 25.0\n",
    "    WESTMOST_GRID_CENTER = WESTMOST_GRID_EDGE + DEGREES_PER_GRID_CELL / 2.0\n",
    "    SOUTHMOST_GRID_CENTER = SOUTHMOST_GRID_EDGE + DEGREES_PER_GRID_CELL / 2.0\n",
    "\n",
    "    def grid_cell_from_lat_lon(lat, lon):\n",
    "        \"\"\"\n",
    "        Takes latitude and longitude in degrees and returns\n",
    "        string of x/y NLDAS grid cell\n",
    "        \"\"\"\n",
    "        x = int(round((lon - NLDAS.WESTMOST_GRID_CENTER)\n",
    "                    / NLDAS.DEGREES_PER_GRID_CELL))\n",
    "        y = int(round((lat - NLDAS.SOUTHMOST_GRID_CENTER)\n",
    "                    / NLDAS.DEGREES_PER_GRID_CELL))\n",
    "        return str(x), str(y);\n"
   ]
  },
  {
   "cell_type": "code",
   "execution_count": 4,
   "metadata": {},
   "outputs": [
    {
     "name": "stdout",
     "output_type": "stream",
     "text": [
      "Wall time: 4h 15min 15s\n"
     ]
    }
   ],
   "source": [
    "%%time\n",
    "\n",
    "raw_files_dir = os.getcwd() + os.sep + 'nldas' + os.sep + 'raw';\n",
    "\n",
    "if not os.path.exists(raw_files_dir):\n",
    "    os.mkdir(raw_files_dir);\n",
    "\n",
    "with arcpy.da.SearchCursor(\n",
    "     in_table     = results_fgdb + os.sep + 'SWC_Station_Universe'\n",
    "    ,field_names  = ['StationId','SHAPE@']\n",
    ") as incur:\n",
    "\n",
    "    for row in incur:\n",
    "        \n",
    "        point = row[1].firstPoint;\n",
    "        lat  = round(point.Y,8);\n",
    "        lon  = round(point.X,8);\n",
    "        name = row[0];\n",
    "        \n",
    "        target_file = raw_files_dir + os.sep + name + '_nldas.txt';\n",
    "        \n",
    "        if 25 < lat < 53 and -125 < lon < -63 and not os.path.exists(target_file):\n",
    "            \n",
    "            x_grid,y_grid = NLDAS.grid_cell_from_lat_lon(lat,lon);\n",
    "            \n",
    "            url = \"https://hydro1.sci.gsfc.nasa.gov/daac-bin/access/\"        \\\n",
    "                + \"timeseries.cgi?variable=NLDAS:NLDAS_FORA0125_H.002:TMP2m\" \\\n",
    "                + \"&startDate=\" + start_date.strftime(\"%Y-%m-%dT00\")         \\\n",
    "                + \"&endDate=\"   + end_date.strftime(\"%Y-%m-%dT00\")           \\\n",
    "                + \"&location=NLDAS:X\" + x_grid + \"-Y\" + y_grid + \"&type=asc2\";\n",
    "            \n",
    "            with open(target_file,'wb') as f:\n",
    "\n",
    "                with requests.get(\n",
    "                     url\n",
    "                    ,stream = True\n",
    "                ) as r:\n",
    "                    for line in r.iter_lines():\n",
    "                        f.write(line+'\\n'.encode());\n",
    "                            \n",
    "            "
   ]
  },
  {
   "cell_type": "code",
   "execution_count": 27,
   "metadata": {},
   "outputs": [],
   "source": [
    "target_file = target_dir + os.sep + 'nldas_20210818.csv';\n",
    "\n",
    "if os.path.exists(target_file):\n",
    "    os.remove(target_file);\n",
    "\n",
    "with arcpy.da.SearchCursor(\n",
    "     in_table     = results_fgdb + os.sep + 'SWC_Station_Universe'\n",
    "    ,field_names  = ['StationId']\n",
    ") as incur:\n",
    "    \n",
    "    with open(target_file,'w') as outcur:\n",
    "    \n",
    "        for row in incur:\n",
    "            name = row[0];\n",
    "            source_file = raw_files_dir + os.sep + name + '_nldas.txt';\n",
    "\n",
    "            if os.path.exists(source_file) and os.path.getsize(source_file) > 300:\n",
    "\n",
    "                with open(source_file,'r') as f:\n",
    "\n",
    "                    for line in f:\n",
    "\n",
    "                        if line[0:7] in ['      1','      2']:\n",
    "\n",
    "                            dt  = datetime.datetime.strptime(line[6:20],\"%Y-%m-%d %HZ\");\n",
    "                            tpk = float(line[24:50]) ;\n",
    "\n",
    "                            if tpk > -9998:\n",
    "                                tpf = (tpk - 273.15) * 1.8000 + 32.00;\n",
    "\n",
    "                                outcur.write('\"' + name + '\",\"' + str(dt) + '\",' + str(round(tpf,8)) + '\\n');\n",
    "    "
   ]
  },
  {
   "cell_type": "code",
   "execution_count": null,
   "metadata": {},
   "outputs": [],
   "source": []
  }
 ],
 "metadata": {
  "kernelspec": {
   "display_name": "Python 3",
   "language": "python",
   "name": "python3"
  },
  "language_info": {
   "codemirror_mode": {
    "name": "ipython",
    "version": 3
   },
   "file_extension": ".py",
   "mimetype": "text/x-python",
   "name": "python",
   "nbconvert_exporter": "python",
   "pygments_lexer": "ipython3",
   "version": "3.7.10"
  }
 },
 "nbformat": 4,
 "nbformat_minor": 4
}
