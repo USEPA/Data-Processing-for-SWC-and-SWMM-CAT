{
 "cells": [
  {
   "cell_type": "code",
   "execution_count": 1,
   "metadata": {},
   "outputs": [],
   "source": [
    "import os,sys;\n",
    "import ftplib;\n",
    "import datetime;\n",
    "from dateutil.rrule import rrule,DAILY,YEARLY;\n",
    "\n",
    "start_date  = datetime.date(1990,1,1);\n",
    "end_date    = datetime.date(2020,12,31);\n",
    "ftp_email   = 'Dziemiela.Paul@epa.gov';\n",
    "\n",
    "target_dir   = os.getcwd() + os.sep + 'prism_grids';\n",
    "\n",
    "if not os.path.exists(target_dir):\n",
    "    os.mkdir(target_dir);\n"
   ]
  },
  {
   "cell_type": "code",
   "execution_count": 2,
   "metadata": {},
   "outputs": [
    {
     "name": "stdout",
     "output_type": "stream",
     "text": [
      "   Downloading PRISM grid zipfiles.\n",
      "Wall time: 17.2 s\n"
     ]
    },
    {
     "data": {
      "text/plain": [
       "'221 Goodbye.'"
      ]
     },
     "execution_count": 2,
     "metadata": {},
     "output_type": "execute_result"
    }
   ],
   "source": [
    "%%time\n",
    "\n",
    "# Change this boolean to True in order to overwrite existing zipfiles\n",
    "overwrite = False;\n",
    "\n",
    "ftp = ftplib.FTP('prism.nacse.org'); \n",
    "ftp.login('anonymous',ftp_email); \n",
    "\n",
    "print(\"   Downloading PRISM grid zipfiles.\")\n",
    "for yr in rrule(\n",
    "     freq    = YEARLY\n",
    "    ,dtstart = start_date\n",
    "    ,until   = end_date\n",
    "):\n",
    "    ftp.cwd('/daily/tmin/' + yr.strftime(\"%Y\"));\n",
    "    \n",
    "    for dy in rrule(\n",
    "         freq    = DAILY\n",
    "        ,dtstart = datetime.date(yr.year,1,1)\n",
    "        ,until   = datetime.date(yr.year,12,31)\n",
    "    ):\n",
    "        fn = 'PRISM_tmin_stable_4kmD2_'+ dy.strftime(\"%Y%m%d\") + '_bil.zip';\n",
    "        tg = target_dir + os.sep + fn;\n",
    "        if overwrite or not os.path.exists(tg):\n",
    "            ftp.retrbinary(\"RETR \" + fn,open(tg,'wb').write);\n",
    "        \n",
    "    ftp.cwd('/daily/tmax/' + yr.strftime(\"%Y\"));\n",
    "    \n",
    "    for dy in rrule(\n",
    "         freq    = DAILY\n",
    "        ,dtstart = datetime.date(yr.year,1,1)\n",
    "        ,until   = datetime.date(yr.year,12,31)\n",
    "    ):\n",
    "        fn = 'PRISM_tmax_stable_4kmD2_'+ dy.strftime(\"%Y%m%d\") + '_bil.zip';\n",
    "        tg = target_dir + os.sep + fn;\n",
    "        if overwrite or not os.path.exists(tg):\n",
    "            ftp.retrbinary(\"RETR \" + fn,open(tg,'wb').write);\n",
    "\n",
    "ftp.quit();\n"
   ]
  },
  {
   "cell_type": "code",
   "execution_count": null,
   "metadata": {},
   "outputs": [],
   "source": []
  }
 ],
 "metadata": {
  "kernelspec": {
   "display_name": "Python 3",
   "language": "python",
   "name": "python3"
  },
  "language_info": {
   "codemirror_mode": {
    "name": "ipython",
    "version": 3
   },
   "file_extension": ".py",
   "mimetype": "text/x-python",
   "name": "python",
   "nbconvert_exporter": "python",
   "pygments_lexer": "ipython3",
   "version": "3.7.10"
  }
 },
 "nbformat": 4,
 "nbformat_minor": 4
}
