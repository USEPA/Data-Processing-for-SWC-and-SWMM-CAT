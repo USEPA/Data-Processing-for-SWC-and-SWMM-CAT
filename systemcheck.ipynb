{
 "cells": [
  {
   "cell_type": "markdown",
   "metadata": {},
   "source": [
    "## System Check\n",
    "\n",
    "If you have issues executing the project notebooks, the following code may help narrow down your problem.\n",
    "\n",
    "Project notebooks require:\n",
    "\n",
    "- ArcGIS Pro provided Python\n",
    "- Either the 3D or Spatial Analyst Extension\n"
   ]
  },
  {
   "cell_type": "code",
   "execution_count": 18,
   "metadata": {},
   "outputs": [
    {
     "name": "stdout",
     "output_type": "stream",
     "text": [
      "Python: 3.7\n"
     ]
    }
   ],
   "source": [
    "import sys\n",
    "\n",
    "print(\"Python: \" + str(sys.version_info[0]) + '.' + str(sys.version_info[1]));\n",
    "\n",
    "if sys.version_info[0] != 3:\n",
    "    print(\"ERROR: Notebooks require a Python 3 environment.\");\n",
    "    sys.exit(-99);\n",
    "    \n",
    "if 'arcpy_init' not in sys.modules:\n",
    "    print(\"ERROR: Esri provided arcpy module not found.\");\n",
    "    print(\"These notebooks require the ArcGIS Pro Python environment.\");\n",
    "    sys.exit(-99);\n",
    "    "
   ]
  },
  {
   "cell_type": "code",
   "execution_count": 19,
   "metadata": {},
   "outputs": [
    {
     "name": "stdout",
     "output_type": "stream",
     "text": [
      "ArcGIS Pro: 2.8\n",
      "License Level: Advanced\n"
     ]
    }
   ],
   "source": [
    "import arcpy;\n",
    "\n",
    "ii = arcpy.GetInstallInfo();\n",
    "\n",
    "print(\"ArcGIS Pro: \" + str(ii['Version']));\n",
    "print(\"License Level: \" + str(ii['LicenseLevel']));\n"
   ]
  },
  {
   "cell_type": "code",
   "execution_count": 20,
   "metadata": {},
   "outputs": [
    {
     "name": "stdout",
     "output_type": "stream",
     "text": [
      "Extension: 3D\n"
     ]
    }
   ],
   "source": [
    "extension = None;\n",
    "\n",
    "try:\n",
    "    if arcpy.CheckExtension(\"3D\") == \"Available\":\n",
    "        extension = '3D';\n",
    "    else:\n",
    "        pass;\n",
    "    \n",
    "except LicenseError:\n",
    "    pass;\n",
    "\n",
    "if extension is None:\n",
    "    try:\n",
    "        if arcpy.CheckExtension(\"Spatial\") == \"Available\":\n",
    "            extension = 'Spatial';\n",
    "        else:\n",
    "            pass;\n",
    "\n",
    "    except LicenseError:\n",
    "        pass;\n",
    "\n",
    "if extension is None:\n",
    "    print(\"ERROR: Notebooks require either 3D or Spatial extension.\");\n",
    "    sys.exit(-99);\n",
    "    \n",
    "print(\"Extension: \" + extension);\n"
   ]
  },
  {
   "cell_type": "code",
   "execution_count": null,
   "metadata": {},
   "outputs": [],
   "source": []
  }
 ],
 "metadata": {
  "kernelspec": {
   "display_name": "Python 3",
   "language": "python",
   "name": "python3"
  },
  "language_info": {
   "codemirror_mode": {
    "name": "ipython",
    "version": 3
   },
   "file_extension": ".py",
   "mimetype": "text/x-python",
   "name": "python",
   "nbconvert_exporter": "python",
   "pygments_lexer": "ipython3",
   "version": "3.7.10"
  }
 },
 "nbformat": 4,
 "nbformat_minor": 4
}
