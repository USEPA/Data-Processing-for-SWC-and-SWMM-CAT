{
 "cells": [
  {
   "cell_type": "code",
   "execution_count": 1,
   "metadata": {},
   "outputs": [],
   "source": [
    "import arcpy,os,http.client,json,requests\n",
    "\n",
    "fgdb = os.getcwd() + os.sep + 'source_data.gdb';\n",
    "\n",
    "data = {};\n",
    "data['al'] = ['http://www.wcc.nrcs.usda.gov/ftpref/wntsc/H&H/WinTR20/NOAA/NOAA_14_AL.zip','NNOAA_14_AL/AL_NOAA_14_points'];\n",
    "data['ak'] = ['http://www.wcc.nrcs.usda.gov/ftpref/wntsc/H&H/WinTR20/NOAA/NOAA_14_AK.zip'];\n",
    "data['ar'] = ['http://www.wcc.nrcs.usda.gov/ftpref/wntsc/H&H/WinTR20/NOAA/NOAA_14_AR.zip'];\n",
    "data['ca'] = ['http://www.wcc.nrcs.usda.gov/ftpref/wntsc/H&H/WinTR20/NOAA/NOAA_14_CA.zip'];\n",
    "data['co'] = ['http://www.wcc.nrcs.usda.gov/ftpref/wntsc/H&H/WinTR20/NOAA/NOAA_14_CO.zip'];\n",
    "data['de'] = ['http://www.wcc.nrcs.usda.gov/ftpref/wntsc/H&H/WinTR20/NOAA/NOAA_14_DE.zip'];\n",
    "data['fl'] = ['http://www.wcc.nrcs.usda.gov/ftpref/wntsc/H&H/WinTR20/NOAA/NOAA_14_FL_GIS.zip'];\n",
    "data['ga'] = ['http://www.wcc.nrcs.usda.gov/ftpref/wntsc/H&H/WinTR20/NOAA/NOAA_14_GA.zip'];\n",
    "data['ia'] = ['http://www.wcc.nrcs.usda.gov/ftpref/wntsc/H&H/WinTR20/NOAA/NOAA_14_IA.zip'];\n",
    "data['in'] = ['http://www.wcc.nrcs.usda.gov/ftpref/wntsc/H&H/WinTR20/NOAA/NOAA_14_IN.zip'];\n",
    "data['ky'] = ['http://www.wcc.nrcs.usda.gov/ftpref/wntsc/H&H/WinTR20/NOAA/NOAA_14_KY.zip'];\n",
    "data['la'] = ['http://www.wcc.nrcs.usda.gov/ftpref/wntsc/H&H/WinTR20/NOAA/NOAA_14_LA.zip'];\n",
    "data['md'] = ['http://www.wcc.nrcs.usda.gov/ftpref/wntsc/H&H/WinTR20/NOAA/NOAA_14_MD.zip'];\n",
    "data['mn'] = ['http://www.wcc.nrcs.usda.gov/ftpref/wntsc/H&H/WinTR20/NOAA/NOAA_14_MN.zip'];\n",
    "data['ne'] = ['http://www.wcc.nrcs.usda.gov/ftpref/wntsc/H&H/WinTR20/NOAA/NOAA_14_NE.zip'];\n",
    "data['nj'] = ['http://www.wcc.nrcs.usda.gov/ftpref/wntsc/H&H/WinTR20/NOAA/NOAA_14_NJ.zip'];\n",
    "data['nv'] = ['http://www.wcc.nrcs.usda.gov/ftpref/wntsc/H&H/WinTR20/NOAA/NOAA_14_NV.zip'];\n",
    "data['oh'] = ['http://www.wcc.nrcs.usda.gov/ftpref/wntsc/H&H/WinTR20/NOAA/NOAA_14_OH.zip'];\n",
    "data['pa'] = ['http://www.wcc.nrcs.usda.gov/ftpref/wntsc/H&H/WinTR20/NOAA/NOAA_14_PA.zip'];\n",
    "data['sc'] = ['http://www.wcc.nrcs.usda.gov/ftpref/wntsc/H&H/WinTR20/NOAA/NOAA_14_SC.zip'];\n",
    "data['tn'] = ['http://www.wcc.nrcs.usda.gov/ftpref/wntsc/H&H/WinTR20/NOAA/NOAA_14_TN.zip'];\n",
    "data['va'] = ['http://www.wcc.nrcs.usda.gov/ftpref/wntsc/H&H/WinTR20/NOAA/NOAA_14_VA.zip'];\n",
    "data['wv'] = ['http://www.wcc.nrcs.usda.gov/ftpref/wntsc/H&H/WinTR20/NOAA/NOAA_14_WV.zip'];\n",
    "data['ct'] = ['http://www.wcc.nrcs.usda.gov/ftpref/wntsc/H&H/WinTR20/NRCC/NRCC_CT.zip'];\n",
    "data['ma'] = ['http://www.wcc.nrcs.usda.gov/ftpref/wntsc/H&H/WinTR20/NRCC/NRCC_MA.zip'];\n",
    "data['me'] = ['http://www.wcc.nrcs.usda.gov/ftpref/wntsc/H&H/WinTR20/NRCC/NRCC_ME.zip'];\n",
    "data['nh'] = ['http://www.wcc.nrcs.usda.gov/ftpref/wntsc/H&H/WinTR20/NRCC/NRCC_NH.zip'];\n",
    "data['ny'] = ['http://www.wcc.nrcs.usda.gov/ftpref/wntsc/H&H/WinTR20/NRCC/NRCC_NY.zip'];\n",
    "data['ri'] = ['http://www.wcc.nrcs.usda.gov/ftpref/wntsc/H&H/WinTR20/NRCC/NRCC_RI.zip'];\n",
    "data['vt'] = ['http://www.wcc.nrcs.usda.gov/ftpref/wntsc/H&H/WinTR20/NRCC/NRCC_VT.zip'];\n"
   ]
  },
  {
   "cell_type": "code",
   "execution_count": null,
   "metadata": {},
   "outputs": [],
   "source": [
    "for item in data:\n",
    "    if arcpy.Exists('scratch'):\n",
    "        arcpy.Delete_management('scratch');"
   ]
  }
 ],
 "metadata": {
  "kernelspec": {
   "display_name": "Python 3",
   "language": "python",
   "name": "python3"
  },
  "language_info": {
   "codemirror_mode": {
    "name": "ipython",
    "version": 3
   },
   "file_extension": ".py",
   "mimetype": "text/x-python",
   "name": "python",
   "nbconvert_exporter": "python",
   "pygments_lexer": "ipython3",
   "version": "3.7.9"
  }
 },
 "nbformat": 4,
 "nbformat_minor": 4
}
