{
 "cells": [
  {
   "cell_type": "code",
   "execution_count": 4,
   "metadata": {},
   "outputs": [
    {
     "name": "stdout",
     "output_type": "stream",
     "text": [
      "Grid Projections: 24743\n",
      "COOP Stations: 1851\n",
      "ISD Stations: 3293\n"
     ]
    }
   ],
   "source": [
    "import arcpy,os,http.client,json,requests\n",
    "\n",
    "fgdb = os.getcwd() + os.sep + 'source_data.gdb';\n",
    "\n",
    "grid = fgdb + os.sep + 'CRWU_CREAT_Grid_Projections';\n",
    "grid_cnt = arcpy.GetCount_management(grid)[0];\n",
    "coop = fgdb + os.sep + 'COOP_STATIONS_TO_USE';\n",
    "coop_cnt = arcpy.GetCount_management(coop)[0];\n",
    "isd  = fgdb + os.sep + 'ISD_STATIONS_TO_USE';\n",
    "isd_cnt = arcpy.GetCount_management(isd)[0];\n",
    "\n",
    "print(\"Grid Projections: \" + str(grid_cnt));\n",
    "print(\"COOP Stations: \" + str(coop_cnt));\n",
    "print(\"ISD Stations: \" + str(isd_cnt));\n"
   ]
  },
  {
   "cell_type": "code",
   "execution_count": 11,
   "metadata": {},
   "outputs": [],
   "source": [
    "rezfgdb = os.getcwd() + os.sep + 'results_data.gdb';\n",
    "\n",
    "if not arcpy.Exists(rezfgdb):\n",
    "   arcpy.CreateFileGDB_management(\n",
    "       os.path.dirname(rezfgdb)\n",
    "      ,os.path.basename(rezfgdb)\n",
    "   );\n",
    "\n",
    "rezcoop = rezfgdb + os.sep + 'COOP_STATIONS_TO_USE';\n",
    "rezisd  = rezfgdb + os.sep + 'ISD_STATIONS_TO_USE';\n",
    "\n",
    "if arcpy.Exists(rezcoop):\n",
    "    arcpy.Delete_management(rezcoop);\n",
    "        \n",
    "if arcpy.Exists(rezisd):\n",
    "    arcpy.Delete_management(rezisd);\n",
    "    "
   ]
  },
  {
   "cell_type": "code",
   "execution_count": 12,
   "metadata": {},
   "outputs": [],
   "source": [
    "arcpy.analysis.SpatialJoin(\n",
    "    coop \n",
    "    ,grid\n",
    "    ,rezcoop \n",
    "    ,'JOIN_ONE_TO_ONE'\n",
    "    ,'KEEP_ALL'\n",
    "    , None\n",
    "    ,'INTERSECT'\n",
    ");\n",
    "\n",
    "arcpy.analysis.SpatialJoin(\n",
    "    isd \n",
    "    ,grid\n",
    "    ,rezisd \n",
    "    ,'JOIN_ONE_TO_ONE'\n",
    "    ,'KEEP_ALL'\n",
    "    , None\n",
    "    ,'INTERSECT'\n",
    ");\n"
   ]
  },
  {
   "cell_type": "code",
   "execution_count": null,
   "metadata": {},
   "outputs": [],
   "source": []
  }
 ],
 "metadata": {
  "kernelspec": {
   "display_name": "Python 3",
   "language": "python",
   "name": "python3"
  },
  "language_info": {
   "codemirror_mode": {
    "name": "ipython",
    "version": 3
   },
   "file_extension": ".py",
   "mimetype": "text/x-python",
   "name": "python",
   "nbconvert_exporter": "python",
   "pygments_lexer": "ipython3",
   "version": "3.7.9"
  }
 },
 "nbformat": 4,
 "nbformat_minor": 4
}
