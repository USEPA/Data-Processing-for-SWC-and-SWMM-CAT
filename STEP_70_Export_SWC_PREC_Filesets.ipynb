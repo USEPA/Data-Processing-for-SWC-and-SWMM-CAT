{
 "cells": [
  {
   "cell_type": "markdown",
   "metadata": {},
   "source": [
    "## Step 70: Export SWC PREC Filesets\n",
    "\n",
    "Purpose: Export SWC PREC datasets from the **results** file geodatabase as tab-delimited files\n"
   ]
  },
  {
   "cell_type": "code",
   "execution_count": 2,
   "metadata": {},
   "outputs": [
    {
     "name": "stdout",
     "output_type": "stream",
     "text": [
      "Step 70: Export SWC PREC Filesets\n",
      "  Station Count               : 5144\n",
      "  PREC2035HotDry Count        : 5144\n",
      "  PREC2035Central Count       : 5144\n",
      "  PREC2035WetWarm Count       : 5144\n",
      "  PREC2060HotDry Count        : 5144\n",
      "  PREC2060Central Count       : 5144\n",
      "  PREC2060WetWarm Count       : 5144\n",
      "  GEVdepth2035Stormy Count    : 5144\n",
      "  GEVdepth2035LessStormy Count: 5144\n",
      "  GEVdepth2060Stormy Count    : 5144\n",
      "  GEVdepth2060LessStormy Count: 5144\n",
      "  GEVdepth_historical Count   : 5144\n",
      "  PREC_SCS_Types Count        : 5144\n"
     ]
    }
   ],
   "source": [
    "print(\"Step 70: Export SWC PREC Filesets\");\n",
    "\n",
    "# Load common utilities\n",
    "%run ./swcutil.ipynb\n",
    "\n",
    "rez = swc_resources();\n",
    "\n",
    "station_cnt                = arcpy.GetCount_management(rez['results'] + os.sep + 'D4EMLite_PREC_Details')[0];\n",
    "\n",
    "PREC2035HotDry_cnt         = arcpy.GetCount_management(rez['results'] + os.sep + 'PREC2035HotDry')[0];\n",
    "PREC2035Central_cnt        = arcpy.GetCount_management(rez['results'] + os.sep + 'PREC2035Central')[0];\n",
    "PREC2035WetWarm_cnt        = arcpy.GetCount_management(rez['results'] + os.sep + 'PREC2035WetWarm')[0];\n",
    "\n",
    "PREC2060HotDry_cnt         = arcpy.GetCount_management(rez['results'] + os.sep + 'PREC2060HotDry')[0];\n",
    "PREC2060Central_cnt        = arcpy.GetCount_management(rez['results'] + os.sep + 'PREC2060Central')[0];\n",
    "PREC2060WetWarm_cnt        = arcpy.GetCount_management(rez['results'] + os.sep + 'PREC2060WetWarm')[0];\n",
    "\n",
    "GEVdepth2035Stormy_cnt     = arcpy.GetCount_management(rez['results'] + os.sep + 'GEVdepth2035Stormy')[0];\n",
    "GEVdepth2035LessStormy_cnt = arcpy.GetCount_management(rez['results'] + os.sep + 'GEVdepth2035LessStormy')[0];\n",
    "\n",
    "GEVdepth2060Stormy_cnt     = arcpy.GetCount_management(rez['results'] + os.sep + 'GEVdepth2060Stormy')[0];\n",
    "GEVdepth2060LessStormy_cnt = arcpy.GetCount_management(rez['results'] + os.sep + 'GEVdepth2060LessStormy')[0];\n",
    "\n",
    "GEVdepth_historical_cnt    = arcpy.GetCount_management(rez['results'] + os.sep + 'GEVdepth_historical')[0];\n",
    "\n",
    "PREC_SCS_Types_cnt         = arcpy.GetCount_management(rez['results'] + os.sep + 'PREC_SCS_Types')[0];\n",
    "\n",
    "print(\"  Station Count               : \" + str(station_cnt));\n",
    "\n",
    "print(\"  PREC2035HotDry Count        : \" + str(PREC2035HotDry_cnt));\n",
    "print(\"  PREC2035Central Count       : \" + str(PREC2035Central_cnt));\n",
    "print(\"  PREC2035WetWarm Count       : \" + str(PREC2035WetWarm_cnt));\n",
    "\n",
    "print(\"  PREC2060HotDry Count        : \" + str(PREC2060HotDry_cnt));\n",
    "print(\"  PREC2060Central Count       : \" + str(PREC2060Central_cnt));\n",
    "print(\"  PREC2060WetWarm Count       : \" + str(PREC2060WetWarm_cnt));\n",
    "\n",
    "print(\"  GEVdepth2035Stormy Count    : \" + str(GEVdepth2035Stormy_cnt));\n",
    "print(\"  GEVdepth2035LessStormy Count: \" + str(GEVdepth2035LessStormy_cnt));\n",
    "\n",
    "print(\"  GEVdepth2060Stormy Count    : \" + str(GEVdepth2060Stormy_cnt));\n",
    "print(\"  GEVdepth2060LessStormy Count: \" + str(GEVdepth2060LessStormy_cnt));\n",
    "\n",
    "print(\"  GEVdepth_historical Count   : \" + str(GEVdepth_historical_cnt));\n",
    "\n",
    "print(\"  PREC_SCS_Types Count        : \" + str(PREC_SCS_Types_cnt));\n"
   ]
  },
  {
   "cell_type": "markdown",
   "metadata": {},
   "source": [
    "### 70.010: Generate the D4EMLite_PREC_Details tab-delimited text file of stations"
   ]
  },
  {
   "cell_type": "code",
   "execution_count": 3,
   "metadata": {},
   "outputs": [
    {
     "data": {
      "application/vnd.jupyter.widget-view+json": {
       "model_id": "9fd85a2aa3724b849c77f69cd204b2a0",
       "version_major": 2,
       "version_minor": 0
      },
      "text/plain": [
       "IntProgress(value=0, max=1)"
      ]
     },
     "metadata": {},
     "output_type": "display_data"
    },
    {
     "name": "stdout",
     "output_type": "stream",
     "text": [
      "  wrote 5144 records to D4EMLite_PREC_Details.txt.\n",
      "Wall time: 966 ms\n"
     ]
    }
   ],
   "source": [
    "%%time\n",
    "\n",
    "f = IntProgress(min=0,max=1);\n",
    "display(f);\n",
    "\n",
    "if arcpy.Exists(rez['resources'] + os.sep + 'D4EMLite_PREC_Details.txt'):\n",
    "    arcpy.Delete_management(rez['resources'] + os.sep + 'D4EMLite_PREC_Details');\n",
    "  \n",
    "flds = [\n",
    "     'StationId'\n",
    "    ,'DataType'\n",
    "    ,'FileName'\n",
    "    ,'Id'\n",
    "    ,'Lat'\n",
    "    ,'Long'\n",
    "    ,'Scenario'\n",
    "    ,'Constituent'\n",
    "    ,'SDate'\n",
    "    ,'EDate'\n",
    "    ,'YrCount'\n",
    "    ,'Value'\n",
    "    ,'StaNam'\n",
    "];\n",
    "\n",
    "z = tabWriter(\n",
    "     fc      = rez['results'] + os.sep + 'D4EMLite_PREC_Details'\n",
    "    ,outfile = rez['resources'] + os.sep + 'D4EMLite_PREC_Details.txt'\n",
    "    ,flds    = flds\n",
    ");  \n",
    "f.value +=1;\n"
   ]
  },
  {
   "cell_type": "markdown",
   "metadata": {},
   "source": [
    "### 70.020: Generate TEMP and PREC tab-delimited text files"
   ]
  },
  {
   "cell_type": "code",
   "execution_count": 4,
   "metadata": {},
   "outputs": [
    {
     "data": {
      "application/vnd.jupyter.widget-view+json": {
       "model_id": "4e1c0f7a6108482a8ab53963a6f1f867",
       "version_major": 2,
       "version_minor": 0
      },
      "text/plain": [
       "IntProgress(value=0, max=12)"
      ]
     },
     "metadata": {},
     "output_type": "display_data"
    },
    {
     "name": "stdout",
     "output_type": "stream",
     "text": [
      "  wrote 5144 records to TEMP2035HotDry.txt.\n",
      "  wrote 5144 records to TEMP2035Central.txt.\n",
      "  wrote 5144 records to TEMP2035WetWarm.txt.\n",
      "  wrote 5144 records to TEMP2060HotDry.txt.\n",
      "  wrote 5144 records to TEMP2060Central.txt.\n",
      "  wrote 5144 records to TEMP2060WetWarm.txt.\n",
      "  wrote 5144 records to PREC2035HotDry.txt.\n",
      "  wrote 5144 records to PREC2035Central.txt.\n",
      "  wrote 5144 records to PREC2035WetWarm.txt.\n",
      "  wrote 5144 records to PREC2060HotDry.txt.\n",
      "  wrote 5144 records to PREC2060Central.txt.\n",
      "  wrote 5144 records to PREC2060WetWarm.txt.\n",
      "Wall time: 4.3 s\n"
     ]
    }
   ],
   "source": [
    "%%time\n",
    "\n",
    "f = IntProgress(min=0,max=12);\n",
    "display(f);\n",
    "\n",
    "if arcpy.Exists(rez['resources'] + os.sep + 'TEMP2035HotDry.txt'):\n",
    "    arcpy.Delete_management(rez['resources'] + os.sep + 'TEMP2035HotDry.txt');\n",
    "\n",
    "if arcpy.Exists(rez['resources'] + os.sep + 'TEMP2035Central.txt'):\n",
    "    arcpy.Delete_management(rez['resources'] + os.sep + 'TEMP2035Central.txt');\n",
    "    \n",
    "if arcpy.Exists(rez['resources'] + os.sep + 'TEMP2035WetWarm.txt'):\n",
    "    arcpy.Delete_management(rez['resources'] + os.sep + 'TEMP2035WetWarm.txt');\n",
    "    \n",
    "if arcpy.Exists(rez['resources'] + os.sep + 'TEMP2060HotDry.txt'):\n",
    "    arcpy.Delete_management(rez['resources'] + os.sep + 'TEMP2060HotDry.txt');\n",
    "\n",
    "if arcpy.Exists(rez['resources'] + os.sep + 'TEMP2060Central.txt'):\n",
    "    arcpy.Delete_management(rez['resources'] + os.sep + 'TEMP2060Central.txt');\n",
    "    \n",
    "if arcpy.Exists(rez['resources'] + os.sep + 'TEMP2060WetWarm.txt'):\n",
    "    arcpy.Delete_management(rez['resources'] + os.sep + 'TEMP2060WetWarm.txt');\n",
    "\n",
    "if arcpy.Exists(rez['resources'] + os.sep + 'PREC2035HotDry.txt'):\n",
    "    arcpy.Delete_management(rez['resources'] + os.sep + 'PREC2035HotDry.txt');\n",
    "\n",
    "if arcpy.Exists(rez['resources'] + os.sep + 'PREC2035Central.txt'):\n",
    "    arcpy.Delete_management(rez['resources'] + os.sep + 'PREC2035Central.txt');\n",
    "    \n",
    "if arcpy.Exists(rez['resources'] + os.sep + 'PREC2035WetWarm.txt'):\n",
    "    arcpy.Delete_management(rez['resources'] + os.sep + 'PREC2035WetWarm.txt');\n",
    "    \n",
    "if arcpy.Exists(rez['resources'] + os.sep + 'PREC2060HotDry.txt'):\n",
    "    arcpy.Delete_management(rez['resources'] + os.sep + 'PREC2060HotDry.txt');\n",
    "\n",
    "if arcpy.Exists(rez['resources'] + os.sep + 'PREC2060Central.txt'):\n",
    "    arcpy.Delete_management(rez['resources'] + os.sep + 'PREC2060Central.txt');\n",
    "    \n",
    "if arcpy.Exists(rez['resources'] + os.sep + 'PREC2060WetWarm.txt'):\n",
    "    arcpy.Delete_management(rez['resources'] + os.sep + 'PREC2060WetWarm.txt');\n",
    "    \n",
    "flds = [\n",
    "     'StationId'\n",
    "    ,'Jan'\n",
    "    ,'Feb'\n",
    "    ,'Mar'\n",
    "    ,'Apr'\n",
    "    ,'May'\n",
    "    ,'Jun'\n",
    "    ,'Jul'\n",
    "    ,'Aug'\n",
    "    ,'Sep'\n",
    "    ,'Oct'\n",
    "    ,'Nov'\n",
    "    ,'Dec'\n",
    "    ,'Ann'\n",
    "];\n",
    "\n",
    "z = tabWriter(\n",
    "     fc      = rez['results'] + os.sep + 'TEMP2035HotDry'\n",
    "    ,outfile = rez['resources'] + os.sep + 'TEMP2035HotDry.txt'\n",
    "    ,flds    = flds\n",
    ");\n",
    "f.value +=1;\n",
    "\n",
    "z = tabWriter(\n",
    "     fc      = rez['results'] + os.sep + 'TEMP2035Central'\n",
    "    ,outfile = rez['resources'] + os.sep + 'TEMP2035Central.txt'\n",
    "    ,flds    = flds\n",
    ");\n",
    "f.value +=1;\n",
    "\n",
    "z = tabWriter(\n",
    "     fc      = rez['results'] + os.sep + 'TEMP2035WetWarm'\n",
    "    ,outfile = rez['resources'] + os.sep + 'TEMP2035WetWarm.txt'\n",
    "    ,flds    = flds\n",
    ");\n",
    "f.value +=1;\n",
    "\n",
    "z = tabWriter(\n",
    "     fc      = rez['results'] + os.sep + 'TEMP2060HotDry'\n",
    "    ,outfile = rez['resources'] + os.sep + 'TEMP2060HotDry.txt'\n",
    "    ,flds    = flds\n",
    ");\n",
    "f.value +=1;\n",
    "\n",
    "z = tabWriter(\n",
    "     fc      = rez['results'] + os.sep + 'TEMP2060Central'\n",
    "    ,outfile = rez['resources'] + os.sep + 'TEMP2060Central.txt'\n",
    "    ,flds    = flds\n",
    ");\n",
    "f.value +=1;\n",
    "\n",
    "z = tabWriter(\n",
    "     fc      = rez['results'] + os.sep + 'TEMP2060WetWarm'\n",
    "    ,outfile = rez['resources'] + os.sep + 'TEMP2060WetWarm.txt'\n",
    "    ,flds    = flds\n",
    ");\n",
    "f.value +=1;\n",
    "\n",
    "z = tabWriter(\n",
    "     fc      = rez['results'] + os.sep + 'PREC2035HotDry'\n",
    "    ,outfile = rez['resources'] + os.sep + 'PREC2035HotDry.txt'\n",
    "    ,flds    = flds\n",
    ");\n",
    "f.value +=1;\n",
    "\n",
    "z = tabWriter(\n",
    "     fc      = rez['results'] + os.sep + 'PREC2035Central'\n",
    "    ,outfile = rez['resources'] + os.sep + 'PREC2035Central.txt'\n",
    "    ,flds    = flds\n",
    ");\n",
    "f.value +=1;\n",
    "\n",
    "z = tabWriter(\n",
    "     fc      = rez['results'] + os.sep + 'PREC2035WetWarm'\n",
    "    ,outfile = rez['resources'] + os.sep + 'PREC2035WetWarm.txt'\n",
    "    ,flds    = flds\n",
    ");\n",
    "f.value +=1;\n",
    "\n",
    "z = tabWriter(\n",
    "     fc      = rez['results'] + os.sep + 'PREC2060HotDry'\n",
    "    ,outfile = rez['resources'] + os.sep + 'PREC2060HotDry.txt'\n",
    "    ,flds    = flds\n",
    ");\n",
    "f.value +=1;\n",
    "\n",
    "z = tabWriter(\n",
    "     fc      = rez['results'] + os.sep + 'PREC2060Central'\n",
    "    ,outfile = rez['resources'] + os.sep + 'PREC2060Central.txt'\n",
    "    ,flds    = flds\n",
    ");\n",
    "f.value +=1;\n",
    "\n",
    "z = tabWriter(\n",
    "     fc      = rez['results'] + os.sep + 'PREC2060WetWarm'\n",
    "    ,outfile = rez['resources'] + os.sep + 'PREC2060WetWarm.txt'\n",
    "    ,flds    = flds\n",
    ");\n",
    "f.value +=1;\n"
   ]
  },
  {
   "cell_type": "markdown",
   "metadata": {},
   "source": [
    "### 70.030: Generate GEVdepth tab-delimited files"
   ]
  },
  {
   "cell_type": "code",
   "execution_count": 5,
   "metadata": {},
   "outputs": [
    {
     "data": {
      "application/vnd.jupyter.widget-view+json": {
       "model_id": "4e17490b64ee4e11bac189b19782a2e8",
       "version_major": 2,
       "version_minor": 0
      },
      "text/plain": [
       "IntProgress(value=0, max=6)"
      ]
     },
     "metadata": {},
     "output_type": "display_data"
    },
    {
     "name": "stdout",
     "output_type": "stream",
     "text": [
      "  wrote 5144 records to GEVdepth2035Stormy.txt.\n",
      "  wrote 5144 records to GEVdepth2035LessStormy.txt.\n",
      "  wrote 5144 records to GEVdepth2060Stormy.txt.\n",
      "  wrote 5144 records to GEVdepth2060LessStormy.txt.\n",
      "  wrote 5144 records to GEVdepth_historical.txt.\n",
      "  wrote 5144 records to PREC_SCS_Types.txt.\n",
      "Wall time: 1.81 s\n"
     ]
    }
   ],
   "source": [
    "%%time\n",
    "\n",
    "f = IntProgress(min=0,max=6);\n",
    "display(f);\n",
    "\n",
    "if arcpy.Exists(rez['resources'] + os.sep + 'GEVdepth2035Stormy.txt'):\n",
    "    arcpy.Delete_management(rez['resources'] + os.sep + 'GEVdepth2035Stormy.txt');\n",
    "\n",
    "if arcpy.Exists(rez['resources'] + os.sep + 'GEVdepth2035LessStormy.txt'):\n",
    "    arcpy.Delete_management(rez['resources'] + os.sep + 'GEVdepth2035LessStormy.txt'); \n",
    "\n",
    "if arcpy.Exists(rez['resources'] + os.sep + 'GEVdepth2060Stormy.txt'):\n",
    "    arcpy.Delete_management(rez['resources'] + os.sep + 'GEVdepth2060Stormy.txt');\n",
    "\n",
    "if arcpy.Exists(rez['resources'] + os.sep + 'GEVdepth2060LessStormy.txt'):\n",
    "    arcpy.Delete_management(rez['resources'] + os.sep + 'GEVdepth2060LessStormy.txt'); \n",
    "\n",
    "flds = [\n",
    "     'StationId'\n",
    "    ,'z5yrann_mm'\n",
    "    ,'z10yrann_mm'\n",
    "    ,'z15yrann_mm'\n",
    "    ,'z30yrann_mm'\n",
    "    ,'z50yrann_mm'\n",
    "    ,'z100yrann_mm'\n",
    "];\n",
    "\n",
    "outflds = [\n",
    "     'StationId'\n",
    "    ,'5yrann_mm'\n",
    "    ,'10yrann_mm'\n",
    "    ,'15yrann_mm'\n",
    "    ,'30yrann_mm'\n",
    "    ,'50yrann_mm'\n",
    "    ,'100yrann_mm'\n",
    "];\n",
    "\n",
    "z = tabWriter(\n",
    "     fc      = rez['results'] + os.sep + 'GEVdepth2035Stormy'\n",
    "    ,outfile = rez['resources'] + os.sep + 'GEVdepth2035Stormy.txt'\n",
    "    ,flds    = flds\n",
    "    ,outflds = outflds\n",
    ");\n",
    "f.value +=1;\n",
    "\n",
    "z = tabWriter(\n",
    "     fc      = rez['results'] + os.sep + 'GEVdepth2035LessStormy'\n",
    "    ,outfile = rez['resources'] + os.sep + 'GEVdepth2035LessStormy.txt'\n",
    "    ,flds    = flds\n",
    "    ,outflds = outflds\n",
    ");\n",
    "f.value +=1;\n",
    "\n",
    "z = tabWriter(\n",
    "     fc      = rez['results'] + os.sep + 'GEVdepth2060Stormy'\n",
    "    ,outfile = rez['resources'] + os.sep + 'GEVdepth2060Stormy.txt'\n",
    "    ,flds    = flds\n",
    "    ,outflds = outflds\n",
    ");\n",
    "f.value +=1;\n",
    "\n",
    "z = tabWriter(\n",
    "     fc      = rez['results']+ os.sep + 'GEVdepth2060LessStormy'\n",
    "    ,outfile = rez['resources'] + os.sep + 'GEVdepth2060LessStormy.txt'\n",
    "    ,flds    = flds\n",
    "    ,outflds = outflds\n",
    ");\n",
    "f.value +=1;\n",
    "\n",
    "z = tabWriter(\n",
    "     fc      = rez['results'] + os.sep + 'GEVdepth_historical'\n",
    "    ,outfile = rez['resources'] + os.sep + 'GEVdepth_historical.txt'\n",
    "    ,flds    = flds\n",
    "    ,outflds = outflds\n",
    ");\n",
    "f.value +=1;\n",
    "\n",
    "z = tabWriter(\n",
    "     fc      = rez['results'] + os.sep + 'PREC_SCS_Types'\n",
    "    ,outfile = rez['resources'] + os.sep + 'PREC_SCS_Types.txt'\n",
    "    ,flds    = ['StationId','Rainfall_Distribution_Type']\n",
    ");\n",
    "f.value +=1;\n"
   ]
  },
  {
   "cell_type": "markdown",
   "metadata": {},
   "source": [
    "### 70.040: Generate new SCS24Hour.txt reference file"
   ]
  },
  {
   "cell_type": "code",
   "execution_count": 6,
   "metadata": {},
   "outputs": [
    {
     "data": {
      "application/vnd.jupyter.widget-view+json": {
       "model_id": "58d1f33340d842cc804375f781a67815",
       "version_major": 2,
       "version_minor": 0
      },
      "text/plain": [
       "IntProgress(value=0, max=1)"
      ]
     },
     "metadata": {},
     "output_type": "display_data"
    },
    {
     "name": "stdout",
     "output_type": "stream",
     "text": [
      "  writing new SCS24Hour.txt file\n",
      "  wrote 241 records to SCS24Hour.txt.\n",
      "Wall time: 384 ms\n"
     ]
    }
   ],
   "source": [
    "%%time\n",
    "\n",
    "f = IntProgress(min=0,max=1);\n",
    "display(f);\n",
    "\n",
    "if arcpy.Exists(rez['resources'] + os.sep + 'SCS24Hour.txt'):\n",
    "    arcpy.Delete_management(rez['resources'] + os.sep + 'SCS24Hour.txt');\n",
    "\n",
    "print(\"  writing new SCS24Hour.txt file\");\n",
    "flds = [\n",
    "     'Time'\n",
    "    ,'CA_1'\n",
    "    ,'CA_2'\n",
    "    ,'CA_3'\n",
    "    ,'CA_4'\n",
    "    ,'CA_5'\n",
    "    ,'CA_6'\n",
    "    ,'MSE_1'\n",
    "    ,'MSE_2'\n",
    "    ,'MSE_3'\n",
    "    ,'MSE_4'\n",
    "    ,'MSE_5'\n",
    "    ,'MSE_6'\n",
    "    ,'NOAA_A'\n",
    "    ,'NOAA_B'\n",
    "    ,'NOAA_C'\n",
    "    ,'NOAA_D'\n",
    "    ,'NRCC_A'\n",
    "    ,'NRCC_B'\n",
    "    ,'NRCC_C'\n",
    "    ,'NRCC_D'\n",
    "    ,'NV_N'\n",
    "    ,'NV_S'\n",
    "    ,'NV_W'\n",
    "    ,'SCS_I'\n",
    "    ,'SCS_IA'\n",
    "    ,'SCS_II'\n",
    "    ,'SCS_III'\n",
    "];\n",
    "\n",
    "z = tabWriter(\n",
    "     fc      = rez['source'] + os.sep + 'TEMPORAL_DIST_FILE'\n",
    "    ,outfile = rez['resources'] + os.sep + 'SCS24Hour.txt'\n",
    "    ,flds    = flds\n",
    ");\n",
    "f.value +=1;\n"
   ]
  },
  {
   "cell_type": "code",
   "execution_count": null,
   "metadata": {},
   "outputs": [],
   "source": []
  }
 ],
 "metadata": {
  "kernelspec": {
   "display_name": "Python 3",
   "language": "python",
   "name": "python3"
  },
  "language_info": {
   "codemirror_mode": {
    "name": "ipython",
    "version": 3
   },
   "file_extension": ".py",
   "mimetype": "text/x-python",
   "name": "python",
   "nbconvert_exporter": "python",
   "pygments_lexer": "ipython3",
   "version": "3.7.10"
  }
 },
 "nbformat": 4,
 "nbformat_minor": 4
}
