{
 "cells": [
  {
   "cell_type": "code",
   "execution_count": 15,
   "metadata": {},
   "outputs": [
    {
     "data": {
      "text/plain": [
       "True"
      ]
     },
     "execution_count": 15,
     "metadata": {},
     "output_type": "execute_result"
    }
   ],
   "source": [
    "import arcpy,os,http.client,json,requests\n",
    "\n",
    "fgdb = os.getcwd() + os.sep + 'source_data.gdb';\n",
    "\n",
    "if not arcpy.Exists(fgdb):\n",
    "   arcpy.CreateFileGDB_management(\n",
    "       os.path.dirname(fgdb)\n",
    "      ,os.path.basename(fgdb)\n",
    "   );\n",
    "\n",
    "arcpy.Exists(fgdb)"
   ]
  },
  {
   "cell_type": "code",
   "execution_count": 16,
   "metadata": {},
   "outputs": [],
   "source": [
    "def scrape_ags(host,path,fgdb,fc):\n",
    "    \n",
    "    if arcpy.Exists(fgdb + os.sep + fc):\n",
    "        arcpy.Delete_management(fgdb + os.sep + fc);\n",
    "    headers = {\"Content-type\": \"application/x-www-form-urlencoded\", \"Accept\": \"text/plain\"};\n",
    "    conn = http.client.HTTPSConnection(host);\n",
    "    conn.request(\"POST\",path,\"f=json\",headers);\n",
    "    response = conn.getresponse();\n",
    "    data = response.read();\n",
    "    json_data = json.loads(data);\n",
    "    if not 'currentVersion' in json_data:\n",
    "        raise ValueError(\"Error, unable to query https://\" + host + path);\n",
    "    extraction_amount = json_data['maxRecordCount'];\n",
    "    where = \"1=1\";\n",
    "    params = \"where={}&returnIdsOnly=true&returnGeometry=false&f=json\".format(where);\n",
    "    conn = http.client.HTTPSConnection(host);\n",
    "    conn.request(\"POST\",path + \"/query\",params,headers);\n",
    "    response = conn.getresponse();\n",
    "    data = response.read();\n",
    "    json_data = json.loads(data);\n",
    "    ary_oid   = sorted(json_data['objectIds']);\n",
    "    oid_name  = json_data['objectIdFieldName'];\n",
    "    oid_count = len(ary_oid);\n",
    "    initial_hit = True;\n",
    "    counter = 0;\n",
    "    while counter <= oid_count - 1:\n",
    "        if counter + extraction_amount > oid_count - 1:\n",
    "            int_max = oid_count - 1;\n",
    "        else:\n",
    "            int_max = counter + extraction_amount - 1;\n",
    "        where = oid_name + ' >= ' + str(ary_oid[counter]) + ' AND ' + oid_name + ' <= ' + str(ary_oid[int_max]);\n",
    "        print(\"  pulling records where \" + where);\n",
    "        fields = \"*\";\n",
    "        params = \"where={}&outFields={}&returnGeometry=true&f=json\".format(where, fields);\n",
    "        conn = http.client.HTTPSConnection(host);\n",
    "        conn.request(\"POST\",path + \"/query\",params,headers);\n",
    "        response = conn.getresponse();\n",
    "        data = response.read(); \n",
    "        json_data = json.loads(data);\n",
    "        ef = arcpy.AsShape(json_data,True);\n",
    "        if initial_hit:\n",
    "            arcpy.management.CopyFeatures(ef,fgdb + os.sep + fc)\n",
    "            initial_hit = False;\n",
    "        else:\n",
    "            arcpy.Append_management(ef,fgdb + os.sep + fc,\"NO_TEST\");\n",
    "        counter += extraction_amount;\n",
    "    conn.close(); \n",
    "    del conn;\n",
    "    print(\"DONE\");\n",
    "    return True;\n"
   ]
  },
  {
   "cell_type": "code",
   "execution_count": 17,
   "metadata": {},
   "outputs": [
    {
     "name": "stdout",
     "output_type": "stream",
     "text": [
      "  pulling records where OBJECTID >= 1 AND OBJECTID <= 2000\n",
      "  pulling records where OBJECTID >= 2001 AND OBJECTID <= 4000\n",
      "  pulling records where OBJECTID >= 4001 AND OBJECTID <= 6000\n",
      "  pulling records where OBJECTID >= 6001 AND OBJECTID <= 8000\n",
      "  pulling records where OBJECTID >= 8001 AND OBJECTID <= 10000\n",
      "  pulling records where OBJECTID >= 10001 AND OBJECTID <= 12000\n",
      "  pulling records where OBJECTID >= 12001 AND OBJECTID <= 14000\n",
      "  pulling records where OBJECTID >= 14001 AND OBJECTID <= 16000\n",
      "  pulling records where OBJECTID >= 16001 AND OBJECTID <= 18000\n",
      "  pulling records where OBJECTID >= 18001 AND OBJECTID <= 20000\n",
      "  pulling records where OBJECTID >= 20001 AND OBJECTID <= 22000\n",
      "  pulling records where OBJECTID >= 22001 AND OBJECTID <= 24000\n",
      "  pulling records where OBJECTID >= 24001 AND OBJECTID <= 24743\n",
      "DONE\n"
     ]
    }
   ],
   "source": [
    "host = \"services.arcgis.com\"; \n",
    "\n",
    "path = \"/cJ9YHowT8TU7DUyn/ArcGIS/rest/services/CRWU_CREAT_Grid_Historic/FeatureServer/0\";\n",
    "fc   = \"CRWU_CREAT_Grid_Historic\";\n",
    "z    = scrape_ags(host,path,fgdb,fc);\n"
   ]
  },
  {
   "cell_type": "code",
   "execution_count": 18,
   "metadata": {},
   "outputs": [
    {
     "name": "stdout",
     "output_type": "stream",
     "text": [
      "  pulling records where OBJECTID >= 1 AND OBJECTID <= 2000\n",
      "  pulling records where OBJECTID >= 2001 AND OBJECTID <= 4000\n",
      "  pulling records where OBJECTID >= 4001 AND OBJECTID <= 6000\n",
      "  pulling records where OBJECTID >= 6001 AND OBJECTID <= 8000\n",
      "  pulling records where OBJECTID >= 8001 AND OBJECTID <= 10000\n",
      "  pulling records where OBJECTID >= 10001 AND OBJECTID <= 11165\n",
      "DONE\n"
     ]
    }
   ],
   "source": [
    "path = \"/cJ9YHowT8TU7DUyn/ArcGIS/rest/services/CRWU_CREAT_Historic_Climate_Stations/FeatureServer/0\";\n",
    "fc   = \"CRWU_CREAT_Historic_Climate_Stations\";\n",
    "z    = scrape_ags(host,path,fgdb,fc);\n"
   ]
  },
  {
   "cell_type": "code",
   "execution_count": 19,
   "metadata": {},
   "outputs": [
    {
     "name": "stdout",
     "output_type": "stream",
     "text": [
      "  pulling records where OBJECTID >= 1 AND OBJECTID <= 2000\n",
      "  pulling records where OBJECTID >= 2001 AND OBJECTID <= 4000\n",
      "  pulling records where OBJECTID >= 4001 AND OBJECTID <= 6000\n",
      "  pulling records where OBJECTID >= 6001 AND OBJECTID <= 8000\n",
      "  pulling records where OBJECTID >= 8001 AND OBJECTID <= 10000\n",
      "  pulling records where OBJECTID >= 10001 AND OBJECTID <= 12000\n",
      "  pulling records where OBJECTID >= 12001 AND OBJECTID <= 14000\n",
      "  pulling records where OBJECTID >= 14001 AND OBJECTID <= 16000\n",
      "  pulling records where OBJECTID >= 16001 AND OBJECTID <= 18000\n",
      "  pulling records where OBJECTID >= 18001 AND OBJECTID <= 20000\n",
      "  pulling records where OBJECTID >= 20001 AND OBJECTID <= 22000\n",
      "  pulling records where OBJECTID >= 22001 AND OBJECTID <= 24000\n",
      "  pulling records where OBJECTID >= 24001 AND OBJECTID <= 24743\n",
      "DONE\n"
     ]
    }
   ],
   "source": [
    "path = \"/cJ9YHowT8TU7DUyn/ArcGIS/rest/services/CRWU_CREAT_Grid_Projections/FeatureServer/0\";\n",
    "fc   = \"CRWU_CREAT_Grid_Projections\";\n",
    "z    = scrape_ags(host,path,fgdb,fc);\n"
   ]
  },
  {
   "cell_type": "code",
   "execution_count": 20,
   "metadata": {},
   "outputs": [],
   "source": [
    "def csv2fc(url,fgdb,fc):\n",
    "    if arcpy.Exists('tempTable.csv'):\n",
    "        arcpy.Delete_management('tempTable.csv');\n",
    "    if arcpy.Exists(fgdb + '/tempTable'):\n",
    "        arcpy.Delete_management(fgdb + '/tempTable');\n",
    "    if arcpy.Exists(fgdb + os.sep + fc):\n",
    "        arcpy.Delete_management(fgdb + os.sep + fc);\n",
    "    print(\"  downloading csv\");\n",
    "    with open('tempTable.csv','wb') as f,requests.get(url,stream=True) as r:\n",
    "        for line in r.iter_lines():\n",
    "            f.write(line + '\\n'.encode());\n",
    "    print(\"  loading to table\");\n",
    "    arcpy.TableToTable_conversion('tempTable.csv',fgdb,'tempTable')\n",
    "    print(\"  converting to points\");\n",
    "    arcpy.management.XYTableToPoint(\n",
    "        fgdb + os.sep + 'tempTable'\n",
    "        ,fgdb + os.sep + fc\n",
    "        ,'longitude'\n",
    "        ,'latitude'\n",
    "    );\n",
    "    arcpy.Delete_management(fgdb + '/tempTable');\n",
    "    arcpy.Delete_management('tempTable.csv');\n",
    "    print(\"DONE\");\n",
    "    return True;\n"
   ]
  },
  {
   "cell_type": "code",
   "execution_count": 21,
   "metadata": {},
   "outputs": [
    {
     "name": "stdout",
     "output_type": "stream",
     "text": [
      "  downloading csv\n",
      "  loading to table\n",
      "  converting to points\n",
      "DONE\n"
     ]
    }
   ],
   "source": [
    "url = \"https://raw.githubusercontent.com/barrc/get_ncei/master/src/coop_stations_to_use.csv\"\n",
    "z   = csv2fc(url,fgdb,'COOP_STATIONS_TO_USE');\n"
   ]
  },
  {
   "cell_type": "code",
   "execution_count": 22,
   "metadata": {},
   "outputs": [
    {
     "name": "stdout",
     "output_type": "stream",
     "text": [
      "  downloading csv\n",
      "  loading to table\n",
      "  converting to points\n",
      "DONE\n"
     ]
    }
   ],
   "source": [
    "url = \"https://raw.githubusercontent.com/barrc/get_ncei/master/src/isd_stations_to_use.csv\"\n",
    "z   = csv2fc(url,fgdb,'ISD_STATIONS_TO_USE');"
   ]
  }
 ],
 "metadata": {
  "kernelspec": {
   "display_name": "Python 3",
   "language": "python",
   "name": "python3"
  },
  "language_info": {
   "codemirror_mode": {
    "name": "ipython",
    "version": 3
   },
   "file_extension": ".py",
   "mimetype": "text/x-python",
   "name": "python",
   "nbconvert_exporter": "python",
   "pygments_lexer": "ipython3",
   "version": "3.7.9"
  }
 },
 "nbformat": 4,
 "nbformat_minor": 4
}
