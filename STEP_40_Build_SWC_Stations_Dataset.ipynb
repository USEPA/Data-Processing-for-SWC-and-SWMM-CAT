{
 "cells": [
  {
   "cell_type": "markdown",
   "metadata": {},
   "source": [
    "## Step 40: Build SWC Stations Dataset\n",
    "\n",
    "Purpose: Combine COOP and ISD stations into a single SWC station dataset.\n",
    "\n",
    "Note: this notebook is relatively short as its expected additional station processing \n",
    "logic will be added at a later date."
   ]
  },
  {
   "cell_type": "code",
   "execution_count": 3,
   "metadata": {},
   "outputs": [
    {
     "name": "stdout",
     "output_type": "stream",
     "text": [
      "Step 40: Build SWC Stations Dataset\n",
      "  COOP Stations    : 1851\n",
      "  ISD Stations     : 3293\n"
     ]
    }
   ],
   "source": [
    "import arcpy;\n",
    "import os,sys;\n",
    "import importlib;\n",
    "\n",
    "print(\"Step 40: Build SWC Stations Dataset\");\n",
    "\n",
    "import swc_resources;\n",
    "importlib.reload(swc_resources);\n",
    "rez = swc_resources.rez();\n",
    "\n",
    "coop = rez['source'] + os.sep + 'COOP_STATIONS_TO_USE';\n",
    "coop_cnt = arcpy.GetCount_management(coop)[0];\n",
    "isd  = rez['source'] + os.sep + 'ISD_STATIONS_TO_USE';\n",
    "isd_cnt = arcpy.GetCount_management(isd)[0];\n",
    "\n",
    "print(\"  COOP Stations    : \" + str(coop_cnt));\n",
    "print(\"  ISD Stations     : \" + str(isd_cnt));\n"
   ]
  },
  {
   "cell_type": "markdown",
   "metadata": {},
   "source": [
    "### 40.010: Create fresh SWC_Station_Universe working dataset\n",
    "\n",
    "Note any additional steps to filter or adjust the spatial aspect of the station universe should occur between\n",
    "steps 010 and 030."
   ]
  },
  {
   "cell_type": "code",
   "execution_count": 12,
   "metadata": {},
   "outputs": [
    {
     "name": "stdout",
     "output_type": "stream",
     "text": [
      "  creating new station universe feature class\n",
      "  adding indexes\n",
      "Wall time: 3.66 s\n"
     ]
    }
   ],
   "source": [
    "%%time\n",
    "\n",
    "output40010 = rez['results'] + os.sep + 'SWC_Station_Universe';\n",
    "\n",
    "print(\"  creating new station universe feature class\");\n",
    "if arcpy.Exists(output40010):\n",
    "    arcpy.Delete_management(output40010);\n",
    "  \n",
    "arcpy.CreateFeatureclass_management(\n",
    "     out_path      = os.path.dirname(output40010)\n",
    "    ,out_name      = os.path.basename(output40010)\n",
    "    ,geometry_type = \"POINT\"\n",
    "    ,has_m         = \"DISABLED\"\n",
    "    ,has_z         = \"DISABLED\"\n",
    "    ,spatial_reference = arcpy.SpatialReference(4269) \n",
    ");\n",
    "\n",
    "arcpy.management.AddFields(\n",
    "     in_table          = output40010\n",
    "    ,field_description = [\n",
    "         ['StationId'       ,'TEXT'  ,'Station ID'        ,14 ]\n",
    "        ,['DataType'        ,'TEXT'  ,'Data Type'         ,255]\n",
    "        ,['FileName'        ,'TEXT'  ,'FileName'          ,255]\n",
    "        ,['Id'              ,'LONG'  ,'Id'                    ]\n",
    "        ,['Lat'             ,'DOUBLE','Lat'                   ]\n",
    "        ,['Long'            ,'DOUBLE','Long'                  ]\n",
    "        ,['Scenario'        ,'TEXT'  ,'Scenario'          ,255]\n",
    "        ,['Constituent'     ,'TEXT'  ,'Constituent'       ,255]\n",
    "        ,['SDate'           ,'TEXT'  ,'Start Date'        ,12 ]\n",
    "        ,['EDate'           ,'TEXT'  ,'End Date'          ,12 ]\n",
    "        ,['YrCount'         ,'DOUBLE','Year Count'            ]\n",
    "        ,['Value'           ,'DOUBLE','Value'                 ]\n",
    "        ,['StaNam'          ,'TEXT'  ,'Station Name'      ,255]\n",
    "        ,['StationSource'   ,'TEXT'  ,'Station Source'    ,255]\n",
    "        ,['StationStateCode','TEXT'  ,'Station State Code',2  ]\n",
    "        ,['CONUSFlag'       ,'TEXT'  ,'CONUS Flag'        ,1  ]\n",
    "    ]\n",
    ");\n",
    "\n",
    "print(\"  adding indexes\");\n",
    "z = arcpy.management.AddIndex(\n",
    "     in_table   = output40010\n",
    "    ,fields     = 'StationId'\n",
    "    ,index_name = 'StationId_IDX'\n",
    ");\n",
    "\n",
    "z = arcpy.management.AddIndex(\n",
    "     in_table   = output40010\n",
    "    ,fields     = 'StationSource'\n",
    "    ,index_name = 'StationSource_IDX'\n",
    ");\n",
    "\n",
    "z = arcpy.management.AddIndex(\n",
    "     in_table   = output40010\n",
    "    ,fields     = 'StationStateCode'\n",
    "    ,index_name = 'StationStateCode_IDX'\n",
    ");\n",
    "\n",
    "z = arcpy.management.AddIndex(\n",
    "     in_table   = output40010\n",
    "    ,fields     = 'CONUSFlag'\n",
    "    ,index_name = 'CONUSFlag_IDX'\n",
    ");\n"
   ]
  },
  {
   "cell_type": "markdown",
   "metadata": {},
   "source": [
    "### 40.020: Load COOP and ISD station data into SWC_Station_Universe feature class"
   ]
  },
  {
   "cell_type": "code",
   "execution_count": 13,
   "metadata": {},
   "outputs": [
    {
     "name": "stdout",
     "output_type": "stream",
     "text": [
      "  loading COOP stations\n",
      "  loading ISD stations\n",
      "  working station count: 5144\n",
      "Wall time: 1.7 s\n"
     ]
    }
   ],
   "source": [
    "%%time\n",
    "\n",
    "output40020 = rez['results'] + os.sep + 'SWC_Station_Universe';\n",
    "coop        = rez['source']  + os.sep + 'COOP_STATIONS_TO_USE';\n",
    "isd         = rez['source']  + os.sep + 'ISD_STATIONS_TO_USE';\n",
    "\n",
    "fldout = [\n",
    "     'StationId'\n",
    "    ,'DataType'\n",
    "    ,'FileName'\n",
    "    ,'Id'\n",
    "    ,'Lat'\n",
    "    ,'Long'\n",
    "    ,'Scenario'\n",
    "    ,'Constituent'\n",
    "    ,'SDate'\n",
    "    ,'EDate'\n",
    "    ,'YrCount'\n",
    "    ,'Value'\n",
    "    ,'StaNam'\n",
    "    ,'StationSource'\n",
    "    ,'StationStateCode'\n",
    "    ,'CONUSFlag'\n",
    "    ,'SHAPE@'\n",
    "];\n",
    "\n",
    "fldcoop = [\n",
    "     'station_id'\n",
    "    ,'station_name'\n",
    "    ,'state'\n",
    "    ,'start_date_clean'\n",
    "    ,'end_date_clean'\n",
    "    ,'latitude'\n",
    "    ,'longitude'\n",
    "    ,'in_basins'\n",
    "    ,'break_with_basins'\n",
    "    ,'network'\n",
    "    ,'year_count'\n",
    "    ,'start_date_to_use_clean'\n",
    "    ,'end_date_to_use_clean'\n",
    "    ,'SHAPE@'\n",
    "];\n",
    "\n",
    "fldisd = [\n",
    "     'station_id'\n",
    "    ,'station_name'\n",
    "    ,'state'\n",
    "    ,'start_date_clean'\n",
    "    ,'end_date_clean'\n",
    "    ,'latitude'\n",
    "    ,'longitude'\n",
    "    ,'in_basins'\n",
    "    ,'break_with_basins'\n",
    "    ,'network'\n",
    "    ,'year_count'\n",
    "    ,'SHAPE@'\n",
    "];\n",
    "\n",
    "with arcpy.da.InsertCursor(\n",
    "     in_table    = output40020\n",
    "    ,field_names = fldout\n",
    ") as outcur:\n",
    "\n",
    "    print(\"  loading COOP stations\");\n",
    "    with arcpy.da.SearchCursor(\n",
    "         in_table    = coop\n",
    "        ,field_names = fldcoop\n",
    "    ) as incur:\n",
    "        for row in incur:\n",
    "            \n",
    "            state_code = row[2].upper();\n",
    "            \n",
    "            conus_flag = 'Y';\n",
    "            if state_code in ['AS','GU','MP','HI','AK','PR','VI']:\n",
    "                conus_flag = 'N'\n",
    "            \n",
    "            outcur.insertRow((\n",
    "                 row[0]\n",
    "                ,'WdmFinal'\n",
    "                ,state_code.lower() + str(row[0]) + '.txt'\n",
    "                ,1\n",
    "                ,row[5]\n",
    "                ,row[6]\n",
    "                ,'OBSERVED'\n",
    "                ,'PREC'\n",
    "                ,row[11]\n",
    "                ,row[12]\n",
    "                ,row[10]\n",
    "                ,0.0\n",
    "                ,row[1]\n",
    "                ,'COOP'\n",
    "                ,state_code\n",
    "                ,conus_flag\n",
    "                ,row[13]\n",
    "            ));\n",
    "            \n",
    "    print(\"  loading ISD stations\");\n",
    "    with arcpy.da.SearchCursor(\n",
    "         in_table    = isd\n",
    "        ,field_names = fldisd\n",
    "    ) as incur:\n",
    "        for row in incur:\n",
    "            \n",
    "            state_code = row[2].upper();\n",
    "            \n",
    "            conus_flag = 'Y';\n",
    "            if state_code in ['AS','GU','MP','HI','AK','PR','VI']:\n",
    "                conus_flag = 'N'\n",
    "                \n",
    "            outcur.insertRow((\n",
    "                 row[0]\n",
    "                ,'WdmFinal'\n",
    "                ,state_code.lower() + str(row[0]) + '.txt'\n",
    "                ,1\n",
    "                ,row[5]\n",
    "                ,row[6]\n",
    "                ,'OBSERVED'\n",
    "                ,'PREC'\n",
    "                ,row[3]\n",
    "                ,row[4]\n",
    "                ,row[10]\n",
    "                ,0.0\n",
    "                ,row[1]\n",
    "                ,'ISD'\n",
    "                ,state_code\n",
    "                ,conus_flag\n",
    "                ,row[11]\n",
    "            ));\n",
    "\n",
    "output40020_cnt = arcpy.GetCount_management(output40020)[0];\n",
    "print(\"  working station count: \" + str(output40020_cnt));\n"
   ]
  },
  {
   "cell_type": "markdown",
   "metadata": {},
   "source": [
    "### 40.030: Review and QA\n",
    "\n",
    "QA Products:\n",
    "\n",
    "1. station counts by state saved to **step40qa.txt**\n"
   ]
  },
  {
   "cell_type": "code",
   "execution_count": 16,
   "metadata": {
    "scrolled": true
   },
   "outputs": [
    {
     "name": "stdout",
     "output_type": "stream",
     "text": [
      "  New Stations: 5144\n",
      "Wall time: 999 ms\n"
     ]
    }
   ],
   "source": [
    "%%time\n",
    "\n",
    "input40030 = rez['results'] + os.sep + 'SWC_Station_Universe';\n",
    "stat_cnt   = arcpy.GetCount_management(input40030)[0];\n",
    "\n",
    "print(\"  New Stations: \" + str(stat_cnt));\n",
    "\n",
    "if arcpy.Exists('memory/stats'):\n",
    "    arcpy.Delete_management('memory/stats');\n",
    "    \n",
    "arcpy.conversion.FeatureClassToFeatureClass(\n",
    "     in_features  = input40030\n",
    "    ,out_path     = 'memory'\n",
    "    ,out_name     = 'stats'\n",
    ");\n",
    "    \n",
    "if arcpy.Exists('memory/stats2'):\n",
    "    arcpy.Delete_management('memory/stats2');\n",
    " \n",
    "arcpy.Statistics_analysis(\n",
    "     in_table          = 'memory/stats'\n",
    "    ,out_table         = 'memory/stats2'\n",
    "    ,statistics_fields = [[\"FileName\",\"COUNT\"]]\n",
    "    ,case_field        = ['StationStateCode']\n",
    ");\n",
    "\n",
    "with open(rez['qa'] + os.sep + 'step40qa.txt',\"w\") as out:\n",
    "    out.write(\"Step 40 QA Review\\n\");\n",
    "    out.write(datetime.datetime.now().isoformat() + \"\\n\");\n",
    "    out.write(\"Total Stations,\" + str(stat_cnt) + \"\\n\");\n",
    "\n",
    "    with arcpy.da.SearchCursor(\n",
    "         in_table    = 'memory/stats2'\n",
    "        ,field_names = ['StationStateCode','COUNT_FileName']\n",
    "        ,sql_clause  = (None,'ORDER BY StationStateCode')\n",
    "    ) as cur:\n",
    "        \n",
    "        for row in cur:\n",
    "            out.write(row[0] + ',' + str(row[1]) + \"\\n\");\n"
   ]
  },
  {
   "cell_type": "code",
   "execution_count": null,
   "metadata": {},
   "outputs": [],
   "source": []
  }
 ],
 "metadata": {
  "kernelspec": {
   "display_name": "Python 3",
   "language": "python",
   "name": "python3"
  },
  "language_info": {
   "codemirror_mode": {
    "name": "ipython",
    "version": 3
   },
   "file_extension": ".py",
   "mimetype": "text/x-python",
   "name": "python",
   "nbconvert_exporter": "python",
   "pygments_lexer": "ipython3",
   "version": "3.7.10"
  },
  "widgets": {
   "application/vnd.jupyter.widget-state+json": {
    "state": {
     "0664820925754d5d9b193a29a73e6d8e": {
      "model_module": "@jupyter-widgets/controls",
      "model_module_version": "1.4.0",
      "model_name": "ProgressStyleModel",
      "state": {
       "description_width": ""
      }
     },
     "4311ba2134e34fa3adf735cccfba6236": {
      "model_module": "@jupyter-widgets/base",
      "model_module_version": "1.1.0",
      "model_name": "LayoutModel",
      "state": {}
     },
     "955bf32233d54446984f5ab5d476e9de": {
      "model_module": "@jupyter-widgets/controls",
      "model_module_version": "1.4.0",
      "model_name": "ProgressStyleModel",
      "state": {
       "description_width": ""
      }
     },
     "ce93706337084d01a9e208349a95cd6d": {
      "model_module": "@jupyter-widgets/base",
      "model_module_version": "1.1.0",
      "model_name": "LayoutModel",
      "state": {}
     },
     "d9bb618527354366ba6184700ef83b8a": {
      "model_module": "@jupyter-widgets/controls",
      "model_module_version": "1.4.0",
      "model_name": "IntProgressModel",
      "state": {
       "layout": "IPY_MODEL_ce93706337084d01a9e208349a95cd6d",
       "max": 2,
       "style": "IPY_MODEL_0664820925754d5d9b193a29a73e6d8e",
       "value": 2
      }
     },
     "e3f301d516204c08a63db3a8791f191d": {
      "model_module": "@jupyter-widgets/controls",
      "model_module_version": "1.4.0",
      "model_name": "IntProgressModel",
      "state": {
       "layout": "IPY_MODEL_4311ba2134e34fa3adf735cccfba6236",
       "max": 3,
       "style": "IPY_MODEL_955bf32233d54446984f5ab5d476e9de",
       "value": 3
      }
     }
    },
    "version_major": 2,
    "version_minor": 0
   }
  }
 },
 "nbformat": 4,
 "nbformat_minor": 4
}
