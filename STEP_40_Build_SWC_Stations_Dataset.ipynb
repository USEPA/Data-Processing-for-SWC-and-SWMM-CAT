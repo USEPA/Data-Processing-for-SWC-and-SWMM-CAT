{
 "cells": [
  {
   "cell_type": "markdown",
   "metadata": {},
   "source": [
    "## Step 40: Build SWC Stations Dataset\n",
    "\n",
    "Purpose: Combine COOP and ISD stations into a single SWC station dataset.\n",
    "\n",
    "Note: this notebook is relatively short as its expected additional station processing \n",
    "logic will be added at a later date."
   ]
  },
  {
   "cell_type": "code",
   "execution_count": 1,
   "metadata": {},
   "outputs": [
    {
     "name": "stdout",
     "output_type": "stream",
     "text": [
      "Step 40: Build SWC Stations Dataset\n",
      "  COOP Stations    : 1851\n",
      "  ISD Stations     : 3293\n"
     ]
    }
   ],
   "source": [
    "import arcpy,os;\n",
    "\n",
    "print(\"Step 40: Build SWC Stations Dataset\");\n",
    "\n",
    "fgdb = os.getcwd() + os.sep + 'source.gdb';\n",
    "\n",
    "coop = fgdb + os.sep + 'COOP_STATIONS_TO_USE';\n",
    "coop_cnt = arcpy.GetCount_management(coop)[0];\n",
    "isd  = fgdb + os.sep + 'ISD_STATIONS_TO_USE';\n",
    "isd_cnt = arcpy.GetCount_management(isd)[0];\n",
    "\n",
    "print(\"  COOP Stations    : \" + str(coop_cnt));\n",
    "print(\"  ISD Stations     : \" + str(isd_cnt));\n"
   ]
  },
  {
   "cell_type": "markdown",
   "metadata": {},
   "source": [
    "### Create fresh D4EMLite_PREC_Details working dataset"
   ]
  },
  {
   "cell_type": "code",
   "execution_count": 2,
   "metadata": {},
   "outputs": [
    {
     "name": "stdout",
     "output_type": "stream",
     "text": [
      "  creating new working stations\n",
      "  adding indexes\n",
      "Wall time: 5.52 s\n"
     ]
    }
   ],
   "source": [
    "%%time\n",
    "\n",
    "wrkfgdb = os.getcwd() + os.sep + 'working.gdb';\n",
    "\n",
    "if not arcpy.Exists(wrkfgdb):\n",
    "   arcpy.CreateFileGDB_management(\n",
    "       os.path.dirname(wrkfgdb)\n",
    "      ,os.path.basename(wrkfgdb)\n",
    "   );\n",
    "\n",
    "wrkstat = wrkfgdb + os.sep + 'D4EMLite_PREC_Details_WRK';\n",
    "\n",
    "if arcpy.Exists(wrkstat):\n",
    "    arcpy.Delete_management(wrkstat);\n",
    "  \n",
    "print(\"  creating new working stations\");\n",
    "arcpy.CreateFeatureclass_management(\n",
    "     out_path      = wrkfgdb\n",
    "    ,out_name      = 'D4EMLite_PREC_Details_WRK'\n",
    "    ,geometry_type = \"POINT\"\n",
    "    ,has_m         = \"DISABLED\"\n",
    "    ,has_z         = \"DISABLED\"\n",
    "    ,spatial_reference = arcpy.SpatialReference(4269) \n",
    ");\n",
    "\n",
    "arcpy.management.AddFields(\n",
    "     in_table          = wrkstat\n",
    "    ,field_description = [\n",
    "         ['StationId'   ,'TEXT'  ,'StationId'   ,14 ]\n",
    "        ,['DataType'    ,'TEXT'  ,'DataType'    ,255]\n",
    "        ,['FileName'    ,'TEXT'  ,'FileName'    ,255]\n",
    "        ,['Id'          ,'LONG'  ,'Id'              ]\n",
    "        ,['Lat'         ,'DOUBLE','Lat'             ]\n",
    "        ,['Long'        ,'DOUBLE','Long'            ]\n",
    "        ,['Scenario'    ,'TEXT'  ,'Scenario'    ,255]\n",
    "        ,['Constituent' ,'TEXT'  ,'Constituent' ,255]\n",
    "        ,['SDate'       ,'TEXT'  ,'SDate'       ,12 ]\n",
    "        ,['EDate'       ,'TEXT'  ,'EDate'       ,12 ]\n",
    "        ,['YrCount'     ,'DOUBLE','YrCount'         ]\n",
    "        ,['Value'       ,'DOUBLE','Value'           ]\n",
    "        ,['StaNam'      ,'TEXT'  ,'StaNam'      ,255]\n",
    "    ]\n",
    ");\n",
    "\n",
    "print(\"  adding indexes\");\n",
    "z = arcpy.management.AddIndex(\n",
    "     in_table   = wrkstat\n",
    "    ,fields     = 'StationId'\n",
    "    ,index_name = 'StationId_IDX'\n",
    ");\n"
   ]
  },
  {
   "cell_type": "markdown",
   "metadata": {},
   "source": [
    "### Load COOP and ISD station data into new D4EMLite_PREC_Details working feature class"
   ]
  },
  {
   "cell_type": "code",
   "execution_count": 3,
   "metadata": {},
   "outputs": [
    {
     "name": "stdout",
     "output_type": "stream",
     "text": [
      "  loading COOP stations\n",
      "  loading ISD stations\n",
      "Wall time: 975 ms\n"
     ]
    }
   ],
   "source": [
    "%%time\n",
    "\n",
    "fldout = [\n",
    "     'StationId'\n",
    "    ,'DataType'\n",
    "    ,'FileName'\n",
    "    ,'Id'\n",
    "    ,'Lat'\n",
    "    ,'Long'\n",
    "    ,'Scenario'\n",
    "    ,'Constituent'\n",
    "    ,'SDate'\n",
    "    ,'EDate'\n",
    "    ,'YrCount'\n",
    "    ,'Value'\n",
    "    ,'StaNam'\n",
    "    ,'SHAPE@'\n",
    "];\n",
    "\n",
    "fldcoop = [\n",
    "     'station_id'\n",
    "    ,'station_name'\n",
    "    ,'state'\n",
    "    ,'start_date_clean'\n",
    "    ,'end_date_clean'\n",
    "    ,'latitude'\n",
    "    ,'longitude'\n",
    "    ,'in_basins'\n",
    "    ,'break_with_basins'\n",
    "    ,'network'\n",
    "    ,'year_count'\n",
    "    ,'start_date_to_use_clean'\n",
    "    ,'end_date_to_use_clean'\n",
    "    ,'SHAPE@'\n",
    "];\n",
    "\n",
    "fldisd = [\n",
    "     'station_id'\n",
    "    ,'station_name'\n",
    "    ,'state'\n",
    "    ,'start_date_clean'\n",
    "    ,'end_date_clean'\n",
    "    ,'latitude'\n",
    "    ,'longitude'\n",
    "    ,'in_basins'\n",
    "    ,'break_with_basins'\n",
    "    ,'network'\n",
    "    ,'year_count'\n",
    "    ,'SHAPE@'\n",
    "];\n",
    "\n",
    "with arcpy.da.InsertCursor(wrkstat,fldout) as outcur:\n",
    "\n",
    "    print(\"  loading COOP stations\");\n",
    "    with arcpy.da.SearchCursor(coop,fldcoop) as incur:\n",
    "        for row in incur:\n",
    "            \n",
    "            outcur.insertRow((\n",
    "                 row[0]\n",
    "                ,'WdmFinal'\n",
    "                ,row[2].lower() + str(row[0]) + '.txt'\n",
    "                ,1\n",
    "                ,row[5]\n",
    "                ,row[6]\n",
    "                ,'OBSERVED'\n",
    "                ,'PREC'\n",
    "                ,row[11]\n",
    "                ,row[12]\n",
    "                ,row[10]\n",
    "                ,0.0\n",
    "                ,row[1]\n",
    "                ,row[13]\n",
    "            ));\n",
    "            \n",
    "    print(\"  loading ISD stations\");\n",
    "    with arcpy.da.SearchCursor(isd,fldisd) as incur:\n",
    "        for row in incur:\n",
    "            \n",
    "            outcur.insertRow((\n",
    "                 row[0]\n",
    "                ,'WdmFinal'\n",
    "                ,row[2].lower() + str(row[0]) + '.txt'\n",
    "                ,1\n",
    "                ,row[5]\n",
    "                ,row[6]\n",
    "                ,'OBSERVED'\n",
    "                ,'PREC'\n",
    "                ,row[3]\n",
    "                ,row[4]\n",
    "                ,row[10]\n",
    "                ,0.0\n",
    "                ,row[1]\n",
    "                ,row[11]\n",
    "            ));\n",
    "            "
   ]
  },
  {
   "cell_type": "code",
   "execution_count": 5,
   "metadata": {},
   "outputs": [
    {
     "name": "stdout",
     "output_type": "stream",
     "text": [
      "  New Stations: 5144\n",
      " \n"
     ]
    }
   ],
   "source": [
    "stat_cnt = arcpy.GetCount_management(wrkstat)[0];\n",
    "\n",
    "print(\"  New Stations: \" + str(stat_cnt));\n",
    "print(\" \");\n"
   ]
  },
  {
   "cell_type": "code",
   "execution_count": null,
   "metadata": {},
   "outputs": [],
   "source": []
  }
 ],
 "metadata": {
  "kernelspec": {
   "display_name": "Python 3",
   "language": "python",
   "name": "python3"
  },
  "language_info": {
   "codemirror_mode": {
    "name": "ipython",
    "version": 3
   },
   "file_extension": ".py",
   "mimetype": "text/x-python",
   "name": "python",
   "nbconvert_exporter": "python",
   "pygments_lexer": "ipython3",
   "version": "3.7.9"
  }
 },
 "nbformat": 4,
 "nbformat_minor": 4
}
