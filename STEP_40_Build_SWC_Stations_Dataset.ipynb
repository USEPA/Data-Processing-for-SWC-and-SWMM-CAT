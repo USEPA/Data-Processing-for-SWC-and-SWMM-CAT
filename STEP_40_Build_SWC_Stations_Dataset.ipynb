{
 "cells": [
  {
   "cell_type": "markdown",
   "metadata": {},
   "source": [
    "## Step 40: Build SWC Stations Dataset\n",
    "\n",
    "Purpose: Combine COOP and ISD stations into a single SWC station dataset.\n",
    "\n",
    "Note: this notebook is relatively short as its expected additional station processing \n",
    "logic will be added at a later date."
   ]
  },
  {
   "cell_type": "code",
   "execution_count": 1,
   "metadata": {},
   "outputs": [
    {
     "name": "stdout",
     "output_type": "stream",
     "text": [
      "Step 40: Build SWC Stations Dataset\n",
      "  COOP Stations    : 1851\n",
      "  ISD Stations     : 3293\n"
     ]
    }
   ],
   "source": [
    "import arcpy;\n",
    "import os,sys;\n",
    "import json,requests;\n",
    "import datetime,http.client;\n",
    "import zipfile,shutil,csv;\n",
    "import time;\n",
    "\n",
    "print(\"Step 40: Build SWC Stations Dataset\");\n",
    "\n",
    "def swc_resources():\n",
    "    \n",
    "    rez = {};\n",
    "    \n",
    "    # Verify or Create Source filegeodatabase\n",
    "    rez['source'] = os.getcwd() + os.sep + 'source.gdb';\n",
    "\n",
    "    if not arcpy.Exists(rez['source']):\n",
    "        print(\"  creating new source workspace\");\n",
    "        arcpy.CreateFileGDB_management(\n",
    "             os.path.dirname(rez['source'])\n",
    "            ,os.path.basename(rez['source'])\n",
    "        );\n",
    "        \n",
    "    # Verify or Create Working filegeodatabase\n",
    "    rez['working'] = os.getcwd() + os.sep + 'working.gdb';\n",
    "\n",
    "    if not arcpy.Exists(rez['working']):\n",
    "        print(\"  creating new working workspace\");\n",
    "        arcpy.CreateFileGDB_management(\n",
    "             os.path.dirname(rez['working'])\n",
    "            ,os.path.basename(rez['working'])\n",
    "        );\n",
    "        \n",
    "    # Verify or Create Results filegeodatabase\n",
    "    rez['results'] = os.getcwd() + os.sep + 'results.gdb';\n",
    "\n",
    "    if not arcpy.Exists(rez['results']):\n",
    "        print(\"  creating new results workspace\");\n",
    "        arcpy.CreateFileGDB_management(\n",
    "             os.path.dirname(rez['results'])\n",
    "            ,os.path.basename(rez['results'])\n",
    "        );\n",
    "\n",
    "    # Verify or Create qa directory\n",
    "    rez['qa'] = os.getcwd() + os.sep + 'qa';\n",
    "\n",
    "    if not arcpy.Exists(rez['qa']):\n",
    "        print(\"  creating new qa directory\");\n",
    "        os.mkdir(rez['qa']);\n",
    "        \n",
    "    # Verify or Create resources directory\n",
    "    rez['resources'] = os.getcwd() + os.sep + 'resources';\n",
    "\n",
    "    if not arcpy.Exists(rez['resources']):\n",
    "        print(\"  creating new resources directory\");\n",
    "        os.mkdir(rez['resources']);\n",
    "        \n",
    "    # Verify existence of files directory\n",
    "    rez['files'] = os.getcwd() + os.sep + 'files';\n",
    "    \n",
    "    if not arcpy.Exists(rez['resources']):\n",
    "        raise Exception('ERROR: project files directory not found');\n",
    "        \n",
    "    return rez;\n",
    "\n",
    "rez = swc_resources();\n",
    "\n",
    "coop = rez['source'] + os.sep + 'COOP_STATIONS_TO_USE';\n",
    "coop_cnt = arcpy.GetCount_management(coop)[0];\n",
    "isd  = rez['source'] + os.sep + 'ISD_STATIONS_TO_USE';\n",
    "isd_cnt = arcpy.GetCount_management(isd)[0];\n",
    "\n",
    "print(\"  COOP Stations    : \" + str(coop_cnt));\n",
    "print(\"  ISD Stations     : \" + str(isd_cnt));\n"
   ]
  },
  {
   "cell_type": "markdown",
   "metadata": {},
   "source": [
    "### 40.010: Create fresh D4EMLite_PREC_Details working dataset"
   ]
  },
  {
   "cell_type": "code",
   "execution_count": 2,
   "metadata": {},
   "outputs": [
    {
     "name": "stdout",
     "output_type": "stream",
     "text": [
      "  creating new working stations\n",
      "  adding indexes\n",
      "Wall time: 2.71 s\n"
     ]
    }
   ],
   "source": [
    "%%time\n",
    "\n",
    "wrkstat0 = rez['working'] + os.sep + 'D4EMLite_PREC_Details_WRK';\n",
    "\n",
    "print(\"  creating new working stations\");\n",
    "if arcpy.Exists(wrkstat0):\n",
    "    arcpy.Delete_management(wrkstat0);\n",
    "  \n",
    "arcpy.CreateFeatureclass_management(\n",
    "     out_path      = os.path.dirname(wrkstat0)\n",
    "    ,out_name      = os.path.basename(wrkstat0)\n",
    "    ,geometry_type = \"POINT\"\n",
    "    ,has_m         = \"DISABLED\"\n",
    "    ,has_z         = \"DISABLED\"\n",
    "    ,spatial_reference = arcpy.SpatialReference(4269) \n",
    ");\n",
    "\n",
    "arcpy.management.AddFields(\n",
    "     in_table          = wrkstat0\n",
    "    ,field_description = [\n",
    "         ['StationId'   ,'TEXT'  ,'StationId'   ,14 ]\n",
    "        ,['DataType'    ,'TEXT'  ,'DataType'    ,255]\n",
    "        ,['FileName'    ,'TEXT'  ,'FileName'    ,255]\n",
    "        ,['Id'          ,'LONG'  ,'Id'              ]\n",
    "        ,['Lat'         ,'DOUBLE','Lat'             ]\n",
    "        ,['Long'        ,'DOUBLE','Long'            ]\n",
    "        ,['Scenario'    ,'TEXT'  ,'Scenario'    ,255]\n",
    "        ,['Constituent' ,'TEXT'  ,'Constituent' ,255]\n",
    "        ,['SDate'       ,'TEXT'  ,'SDate'       ,12 ]\n",
    "        ,['EDate'       ,'TEXT'  ,'EDate'       ,12 ]\n",
    "        ,['YrCount'     ,'DOUBLE','YrCount'         ]\n",
    "        ,['Value'       ,'DOUBLE','Value'           ]\n",
    "        ,['StaNam'      ,'TEXT'  ,'StaNam'      ,255]\n",
    "    ]\n",
    ");\n",
    "\n",
    "print(\"  adding indexes\");\n",
    "z = arcpy.management.AddIndex(\n",
    "     in_table   = wrkstat0\n",
    "    ,fields     = 'StationId'\n",
    "    ,index_name = 'StationId_IDX'\n",
    ");\n"
   ]
  },
  {
   "cell_type": "markdown",
   "metadata": {},
   "source": [
    "### 40.020: Load COOP and ISD station data into new D4EMLite_PREC_Details working feature class"
   ]
  },
  {
   "cell_type": "code",
   "execution_count": 3,
   "metadata": {},
   "outputs": [
    {
     "name": "stdout",
     "output_type": "stream",
     "text": [
      "  loading COOP stations\n",
      "  loading ISD stations\n",
      "  working station count: 5144\n",
      "Wall time: 867 ms\n"
     ]
    }
   ],
   "source": [
    "%%time\n",
    "\n",
    "wrkstat0 = rez['working'] + os.sep + 'D4EMLite_PREC_Details_WRK';\n",
    "coop     = rez['source'] + os.sep + 'COOP_STATIONS_TO_USE';\n",
    "isd      = rez['source'] + os.sep + 'ISD_STATIONS_TO_USE';\n",
    "\n",
    "fldout = [\n",
    "     'StationId'\n",
    "    ,'DataType'\n",
    "    ,'FileName'\n",
    "    ,'Id'\n",
    "    ,'Lat'\n",
    "    ,'Long'\n",
    "    ,'Scenario'\n",
    "    ,'Constituent'\n",
    "    ,'SDate'\n",
    "    ,'EDate'\n",
    "    ,'YrCount'\n",
    "    ,'Value'\n",
    "    ,'StaNam'\n",
    "    ,'SHAPE@'\n",
    "];\n",
    "\n",
    "fldcoop = [\n",
    "     'station_id'\n",
    "    ,'station_name'\n",
    "    ,'state'\n",
    "    ,'start_date_clean'\n",
    "    ,'end_date_clean'\n",
    "    ,'latitude'\n",
    "    ,'longitude'\n",
    "    ,'in_basins'\n",
    "    ,'break_with_basins'\n",
    "    ,'network'\n",
    "    ,'year_count'\n",
    "    ,'start_date_to_use_clean'\n",
    "    ,'end_date_to_use_clean'\n",
    "    ,'SHAPE@'\n",
    "];\n",
    "\n",
    "fldisd = [\n",
    "     'station_id'\n",
    "    ,'station_name'\n",
    "    ,'state'\n",
    "    ,'start_date_clean'\n",
    "    ,'end_date_clean'\n",
    "    ,'latitude'\n",
    "    ,'longitude'\n",
    "    ,'in_basins'\n",
    "    ,'break_with_basins'\n",
    "    ,'network'\n",
    "    ,'year_count'\n",
    "    ,'SHAPE@'\n",
    "];\n",
    "\n",
    "with arcpy.da.InsertCursor(\n",
    "     in_table    = wrkstat0\n",
    "    ,field_names = fldout\n",
    ") as outcur:\n",
    "\n",
    "    print(\"  loading COOP stations\");\n",
    "    with arcpy.da.SearchCursor(\n",
    "         in_table    = coop\n",
    "        ,field_names = fldcoop\n",
    "    ) as incur:\n",
    "        for row in incur:\n",
    "            \n",
    "            outcur.insertRow((\n",
    "                 row[0]\n",
    "                ,'WdmFinal'\n",
    "                ,row[2].lower() + str(row[0]) + '.txt'\n",
    "                ,1\n",
    "                ,row[5]\n",
    "                ,row[6]\n",
    "                ,'OBSERVED'\n",
    "                ,'PREC'\n",
    "                ,row[11]\n",
    "                ,row[12]\n",
    "                ,row[10]\n",
    "                ,0.0\n",
    "                ,row[1]\n",
    "                ,row[13]\n",
    "            ));\n",
    "            \n",
    "    print(\"  loading ISD stations\");\n",
    "    with arcpy.da.SearchCursor(\n",
    "         in_table    = isd\n",
    "        ,field_names = fldisd\n",
    "    ) as incur:\n",
    "        for row in incur:\n",
    "            \n",
    "            outcur.insertRow((\n",
    "                 row[0]\n",
    "                ,'WdmFinal'\n",
    "                ,row[2].lower() + str(row[0]) + '.txt'\n",
    "                ,1\n",
    "                ,row[5]\n",
    "                ,row[6]\n",
    "                ,'OBSERVED'\n",
    "                ,'PREC'\n",
    "                ,row[3]\n",
    "                ,row[4]\n",
    "                ,row[10]\n",
    "                ,0.0\n",
    "                ,row[1]\n",
    "                ,row[11]\n",
    "            ));\n",
    "\n",
    "wrkstat0_cnt = arcpy.GetCount_management(wrkstat0)[0];\n",
    "print(\"  working station count: \" + str(wrkstat0_cnt));\n"
   ]
  },
  {
   "cell_type": "markdown",
   "metadata": {},
   "source": [
    "### 40.030: Review and QA\n",
    "\n",
    "QA Products:\n",
    "\n",
    "1. station counts by state saved to **step40qa.txt**\n"
   ]
  },
  {
   "cell_type": "code",
   "execution_count": 4,
   "metadata": {},
   "outputs": [
    {
     "name": "stdout",
     "output_type": "stream",
     "text": [
      "  New Stations: 5144\n",
      "Wall time: 1.48 s\n"
     ]
    }
   ],
   "source": [
    "%%time\n",
    "\n",
    "wrkstat0 = rez['working'] + os.sep + 'D4EMLite_PREC_Details_WRK';\n",
    "stat_cnt = arcpy.GetCount_management(wrkstat0)[0];\n",
    "\n",
    "print(\"  New Stations: \" + str(stat_cnt));\n",
    "\n",
    "if arcpy.Exists('memory/stats'):\n",
    "    arcpy.Delete_management('memory/stats');\n",
    "    \n",
    "arcpy.conversion.FeatureClassToFeatureClass(\n",
    "     in_features  = wrkstat0\n",
    "    ,out_path     = 'memory'\n",
    "    ,out_name     = 'stats'\n",
    ");\n",
    "\n",
    "arcpy.management.AddFields(\n",
    "     in_table          = 'memory/stats'\n",
    "    ,field_description = [\n",
    "         ['state'     ,'TEXT','state'     ,2]\n",
    "    ]\n",
    ");\n",
    "\n",
    "z = arcpy.management.CalculateField(\n",
    "     in_table        = 'memory/stats'\n",
    "    ,field           = 'state'\n",
    "    ,expression      = \"substate(!FileName!)\"\n",
    "    ,expression_type = 'PYTHON3'\n",
    "    ,code_block      = \"\"\"\n",
    "def substate(pin):\n",
    "    return pin[:2];\n",
    "\"\"\"\n",
    ");\n",
    "    \n",
    "if arcpy.Exists('memory/stats2'):\n",
    "    arcpy.Delete_management('memory/stats2');\n",
    " \n",
    "arcpy.Statistics_analysis(\n",
    "     in_table          = 'memory/stats'\n",
    "    ,out_table         = 'memory/stats2'\n",
    "    ,statistics_fields = [[\"FileName\",\"COUNT\"]]\n",
    "    ,case_field        = ['state']\n",
    ");\n",
    "\n",
    "with open(rez['qa'] + os.sep + 'step40qa.txt',\"w\") as out:\n",
    "    out.write(\"Step 40 QA Review\\n\");\n",
    "    out.write(datetime.datetime.now().isoformat() + \"\\n\");\n",
    "    out.write(\"Total Stations,\" + str(stat_cnt) + \"\\n\");\n",
    "\n",
    "    with arcpy.da.SearchCursor(\n",
    "         in_table    = 'memory/stats2'\n",
    "        ,field_names = ['state','COUNT_FileName']\n",
    "        ,sql_clause  = (None,'ORDER BY state')\n",
    "    ) as cur:\n",
    "        \n",
    "        for row in cur:\n",
    "            out.write(row[0] + ',' + str(row[1]) + \"\\n\");\n"
   ]
  },
  {
   "cell_type": "code",
   "execution_count": null,
   "metadata": {},
   "outputs": [],
   "source": []
  }
 ],
 "metadata": {
  "kernelspec": {
   "display_name": "Python 3",
   "language": "python",
   "name": "python3"
  },
  "language_info": {
   "codemirror_mode": {
    "name": "ipython",
    "version": 3
   },
   "file_extension": ".py",
   "mimetype": "text/x-python",
   "name": "python",
   "nbconvert_exporter": "python",
   "pygments_lexer": "ipython3",
   "version": "3.7.10"
  },
  "widgets": {
   "application/vnd.jupyter.widget-state+json": {
    "state": {
     "0664820925754d5d9b193a29a73e6d8e": {
      "model_module": "@jupyter-widgets/controls",
      "model_module_version": "1.4.0",
      "model_name": "ProgressStyleModel",
      "state": {
       "description_width": ""
      }
     },
     "4311ba2134e34fa3adf735cccfba6236": {
      "model_module": "@jupyter-widgets/base",
      "model_module_version": "1.1.0",
      "model_name": "LayoutModel",
      "state": {}
     },
     "955bf32233d54446984f5ab5d476e9de": {
      "model_module": "@jupyter-widgets/controls",
      "model_module_version": "1.4.0",
      "model_name": "ProgressStyleModel",
      "state": {
       "description_width": ""
      }
     },
     "ce93706337084d01a9e208349a95cd6d": {
      "model_module": "@jupyter-widgets/base",
      "model_module_version": "1.1.0",
      "model_name": "LayoutModel",
      "state": {}
     },
     "d9bb618527354366ba6184700ef83b8a": {
      "model_module": "@jupyter-widgets/controls",
      "model_module_version": "1.4.0",
      "model_name": "IntProgressModel",
      "state": {
       "layout": "IPY_MODEL_ce93706337084d01a9e208349a95cd6d",
       "max": 2,
       "style": "IPY_MODEL_0664820925754d5d9b193a29a73e6d8e",
       "value": 2
      }
     },
     "e3f301d516204c08a63db3a8791f191d": {
      "model_module": "@jupyter-widgets/controls",
      "model_module_version": "1.4.0",
      "model_name": "IntProgressModel",
      "state": {
       "layout": "IPY_MODEL_4311ba2134e34fa3adf735cccfba6236",
       "max": 3,
       "style": "IPY_MODEL_955bf32233d54446984f5ab5d476e9de",
       "value": 3
      }
     }
    },
    "version_major": 2,
    "version_minor": 0
   }
  }
 },
 "nbformat": 4,
 "nbformat_minor": 4
}
