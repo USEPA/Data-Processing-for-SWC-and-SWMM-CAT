{
 "cells": [
  {
   "cell_type": "markdown",
   "metadata": {},
   "source": [
    "## Runall Utility\n",
    "\n",
    "Utility provided to run all notebooks serially to generate SWC precipitation resources. \n"
   ]
  },
  {
   "cell_type": "code",
   "execution_count": 1,
   "metadata": {},
   "outputs": [
    {
     "name": "stdout",
     "output_type": "stream",
     "text": [
      "Python: 3.7\n",
      "ArcGIS Pro: 2.8\n",
      "License Level: Advanced\n",
      "Extension: Geostatistical Analyst\n",
      "scrubbing repository of previous results...\n",
      "scrub complete.\n",
      "Executing Step 10: Gather Source Datasets\n",
      "  creating new source workspace\n",
      "  creating new working workspace\n",
      "  creating new results workspace\n",
      "  creating new qa directory\n",
      "  creating new resources directory\n"
     ]
    },
    {
     "data": {
      "application/vnd.jupyter.widget-view+json": {
       "model_id": "",
       "version_major": 2,
       "version_minor": 0
      },
      "text/plain": [
       "IntProgress(value=0, max=3)"
      ]
     },
     "metadata": {},
     "output_type": "display_data"
    },
    {
     "name": "stdout",
     "output_type": "stream",
     "text": [
      "  pulling records where OBJECTID >= 1 AND OBJECTID <= 2000\n",
      "  pulling records where OBJECTID >= 2001 AND OBJECTID <= 4000\n",
      "  pulling records where OBJECTID >= 4001 AND OBJECTID <= 6000\n",
      "  pulling records where OBJECTID >= 6001 AND OBJECTID <= 8000\n",
      "  pulling records where OBJECTID >= 8001 AND OBJECTID <= 10000\n",
      "  pulling records where OBJECTID >= 10001 AND OBJECTID <= 12000\n",
      "  pulling records where OBJECTID >= 12001 AND OBJECTID <= 14000\n",
      "  pulling records where OBJECTID >= 14001 AND OBJECTID <= 16000\n",
      "  pulling records where OBJECTID >= 16001 AND OBJECTID <= 18000\n",
      "  pulling records where OBJECTID >= 18001 AND OBJECTID <= 20000\n",
      "  pulling records where OBJECTID >= 20001 AND OBJECTID <= 22000\n",
      "  pulling records where OBJECTID >= 22001 AND OBJECTID <= 24000\n",
      "  pulling records where OBJECTID >= 24001 AND OBJECTID <= 24743\n",
      "  Scrape complete.\n",
      "Wall time: 5min 7s\n"
     ]
    },
    {
     "data": {
      "application/vnd.jupyter.widget-view+json": {
       "model_id": "",
       "version_major": 2,
       "version_minor": 0
      },
      "text/plain": [
       "IntProgress(value=0, max=3)"
      ]
     },
     "metadata": {},
     "output_type": "display_data"
    },
    {
     "name": "stdout",
     "output_type": "stream",
     "text": [
      "  pulling records where OBJECTID >= 1 AND OBJECTID <= 2000\n",
      "  pulling records where OBJECTID >= 2001 AND OBJECTID <= 4000\n",
      "  pulling records where OBJECTID >= 4001 AND OBJECTID <= 6000\n",
      "  pulling records where OBJECTID >= 6001 AND OBJECTID <= 8000\n",
      "  pulling records where OBJECTID >= 8001 AND OBJECTID <= 10000\n",
      "  pulling records where OBJECTID >= 10001 AND OBJECTID <= 11165\n",
      "  Scrape complete.\n",
      "Wall time: 10.9 s\n"
     ]
    },
    {
     "data": {
      "application/vnd.jupyter.widget-view+json": {
       "model_id": "",
       "version_major": 2,
       "version_minor": 0
      },
      "text/plain": [
       "IntProgress(value=0, max=8)"
      ]
     },
     "metadata": {},
     "output_type": "display_data"
    },
    {
     "name": "stdout",
     "output_type": "stream",
     "text": [
      "  downloading file\n",
      "  loading to table\n",
      "  converting to NAD83 points\n",
      "  add quotes to start and end fields\n",
      "  calculating year count\n",
      "  adding indexes\n",
      "Wall time: 10.2 s\n"
     ]
    },
    {
     "data": {
      "application/vnd.jupyter.widget-view+json": {
       "model_id": "",
       "version_major": 2,
       "version_minor": 0
      },
      "text/plain": [
       "IntProgress(value=0, max=6)"
      ]
     },
     "metadata": {},
     "output_type": "display_data"
    },
    {
     "name": "stdout",
     "output_type": "stream",
     "text": [
      "  downloading file\n",
      "  loading to table\n",
      "  converting to NAD83 points\n",
      "  add quotes to start and end fields\n",
      "  calculating year count\n",
      "  adding indexes\n",
      "Wall time: 8.23 s\n"
     ]
    },
    {
     "data": {
      "application/vnd.jupyter.widget-view+json": {
       "model_id": "",
       "version_major": 2,
       "version_minor": 0
      },
      "text/plain": [
       "IntProgress(value=0, max=3)"
      ]
     },
     "metadata": {},
     "output_type": "display_data"
    },
    {
     "name": "stdout",
     "output_type": "stream",
     "text": [
      "  downloading file\n",
      "  loading to table\n",
      "  adding indexes\n",
      "Wall time: 1.77 s\n"
     ]
    },
    {
     "data": {
      "application/vnd.jupyter.widget-view+json": {
       "model_id": "",
       "version_major": 2,
       "version_minor": 0
      },
      "text/plain": [
       "IntProgress(value=0, max=1)"
      ]
     },
     "metadata": {},
     "output_type": "display_data"
    },
    {
     "name": "stdout",
     "output_type": "stream",
     "text": [
      "  pulling records where OBJECTID >= 1 AND OBJECTID <= 5\n",
      "  pulling records where OBJECTID >= 6 AND OBJECTID <= 10\n",
      "  pulling records where OBJECTID >= 11 AND OBJECTID <= 15\n",
      "  pulling records where OBJECTID >= 16 AND OBJECTID <= 20\n",
      "  pulling records where OBJECTID >= 21 AND OBJECTID <= 25\n",
      "  pulling records where OBJECTID >= 26 AND OBJECTID <= 30\n",
      "  pulling records where OBJECTID >= 31 AND OBJECTID <= 35\n",
      "  pulling records where OBJECTID >= 36 AND OBJECTID <= 40\n",
      "  pulling records where OBJECTID >= 41 AND OBJECTID <= 45\n",
      "  pulling records where OBJECTID >= 46 AND OBJECTID <= 50\n",
      "  pulling records where OBJECTID >= 51 AND OBJECTID <= 55\n",
      "  pulling records where OBJECTID >= 56 AND OBJECTID <= 56\n",
      "  Scrape complete.\n",
      "Wall time: 1min 7s\n",
      "  Grid Projections : 24743\n",
      "  Historic Stations: 11165\n",
      "  COOP Stations    : 1851\n",
      "  ISD Stations     : 3293\n",
      "  Tigerweb States  : 56\n",
      " \n",
      "Wall time: 1.9 s\n",
      "Executing Step 20: Gather Rainfall Distribution Datasets\n"
     ]
    },
    {
     "data": {
      "application/vnd.jupyter.widget-view+json": {
       "model_id": "",
       "version_major": 2,
       "version_minor": 0
      },
      "text/plain": [
       "IntProgress(value=0, max=32)"
      ]
     },
     "metadata": {},
     "output_type": "display_data"
    },
    {
     "name": "stdout",
     "output_type": "stream",
     "text": [
      "  processing ireg_zones\n",
      "  running repair to check for topology problems\n",
      "  processing NOAA_14_east_rf_dist\n",
      "  running repair to check for topology problems\n",
      "  attempting to download https://www.wcc.nrcs.usda.gov/ftpref/wntsc/H&H/WinTR20/NOAA/NOAA_14_AL.zip\n",
      "  processing AL_county_split_rf_dist__WGS\n",
      "  running repair to check for topology problems\n",
      "  attempting to download https://www.wcc.nrcs.usda.gov/ftpref/wntsc/H&H/WinTR20/NOAA/NOAA_14_AR.zip\n",
      "  processing AR_county_split_WGS\n",
      "  running repair to check for topology problems\n",
      "  attempting to download https://www.wcc.nrcs.usda.gov/ftpref/wntsc/H&H/WinTR20/NOAA/NOAA_14_CA.zip\n",
      "  processing CA_6_dist_map\n",
      "  running repair to check for topology problems\n",
      "  attempting to download https://www.wcc.nrcs.usda.gov/ftpref/wntsc/H&H/WinTR20/NOAA/NOAA_14_CO.zip\n",
      "  processing CO_NOAA_14_rf_dist\n",
      "  running repair to check for topology problems\n",
      "  attempting to download https://www.wcc.nrcs.usda.gov/ftpref/wntsc/H&H/WinTR20/NOAA/NOAA_14_DE.zip\n",
      "  processing DE_counties_WGS72\n",
      "  running repair to check for topology problems\n",
      "  attempting to download https://www.wcc.nrcs.usda.gov/ftpref/wntsc/H&H/WinTR20/NOAA/NOAA_14_FL_GIS.zip\n",
      "  processing county_FL_WGS_split_poly9\n",
      "  running repair to check for topology problems\n",
      "  processing FL_NOAA_14_pts\n",
      "  running repair to check for topology problems\n",
      "  attempting to download https://www.wcc.nrcs.usda.gov/ftpref/wntsc/H&H/WinTR20/NOAA/NOAA_14_GA.zip\n",
      "  processing GA_county_split_WGS\n",
      "  running repair to check for topology problems\n",
      "  attempting to download https://www.wcc.nrcs.usda.gov/ftpref/wntsc/H&H/WinTR20/NOAA/NOAA_14_IA.zip\n",
      "  processing county_IA_WGS\n",
      "  running repair to check for topology problems\n",
      "  attempting to download https://www.wcc.nrcs.usda.gov/ftpref/wntsc/H&H/WinTR20/NOAA/NOAA_14_IN.zip\n",
      "  processing IN_counties_WGS\n",
      "  running repair to check for topology problems\n",
      "  attempting to download https://www.wcc.nrcs.usda.gov/ftpref/wntsc/H&H/WinTR20/NOAA/NOAA_14_KY.zip\n",
      "  processing KY_counties_WGS\n",
      "  running repair to check for topology problems\n",
      "  attempting to download https://www.wcc.nrcs.usda.gov/ftpref/wntsc/H&H/WinTR20/NOAA/NOAA_14_LA.zip\n",
      "  processing LA_Parish_split_poly\n",
      "  running repair to check for topology problems\n",
      "  attempting to download https://www.wcc.nrcs.usda.gov/ftpref/wntsc/H&H/WinTR20/NOAA/NOAA_14_MD.zip\n",
      "  processing MD_areas_WGS72\n",
      "  running repair to check for topology problems\n",
      "  attempting to download https://www.wcc.nrcs.usda.gov/ftpref/wntsc/H&H/WinTR20/NOAA/NOAA_14_MN.zip\n",
      "  processing county_MN_WGS\n",
      "  running repair to check for topology problems\n",
      "  attempting to download https://www.wcc.nrcs.usda.gov/ftpref/wntsc/H&H/WinTR20/NOAA/NOAA_14_NE.zip\n",
      "  processing county_NE_WGS\n",
      "  running repair to check for topology problems\n",
      "  attempting to download https://www.wcc.nrcs.usda.gov/ftpref/wntsc/H&H/WinTR20/NOAA/NOAA_14_NJ.zip\n",
      "  processing NJ_county_WGS72\n",
      "  running repair to check for topology problems\n",
      "  attempting to download https://www.wcc.nrcs.usda.gov/ftpref/wntsc/H&H/WinTR20/NOAA/NOAA_14_NV.zip\n",
      "  processing NV_County_WGS\n",
      "  running repair to check for topology problems\n",
      "  attempting to download https://www.wcc.nrcs.usda.gov/ftpref/wntsc/H&H/WinTR20/NOAA/NOAA_14_OH.zip\n",
      "  processing OH_counties_WGS72\n",
      "  running repair to check for topology problems\n",
      "  attempting to download https://www.wcc.nrcs.usda.gov/ftpref/wntsc/H&H/WinTR20/NOAA/NOAA_14_PA.zip\n",
      "  processing PA_counties_WGS72\n",
      "  running repair to check for topology problems\n",
      "  attempting to download https://www.wcc.nrcs.usda.gov/ftpref/wntsc/H&H/WinTR20/NOAA/NOAA_14_SC.zip\n",
      "  processing SC_NOAA_14_rf_dist\n",
      "  running repair to check for topology problems\n",
      "  attempting to download https://www.wcc.nrcs.usda.gov/ftpref/wntsc/H&H/WinTR20/NOAA/NOAA_14_TN.zip\n",
      "  processing TN_NOAA_14_rf_dist\n",
      "  running repair to check for topology problems\n",
      "  attempting to download https://www.wcc.nrcs.usda.gov/ftpref/wntsc/H&H/WinTR20/NOAA/NOAA_14_VA.zip\n",
      "  processing VA_counties_and_zones\n",
      "  running repair to check for topology problems\n",
      "  attempting to download https://www.wcc.nrcs.usda.gov/ftpref/wntsc/H&H/WinTR20/NOAA/NOAA_14_WV.zip\n",
      "  processing WV_rainfall_distribution\n",
      "  running repair to check for topology problems\n",
      "  attempting to download https://www.wcc.nrcs.usda.gov/ftpref/wntsc/H&H/WinTR20/NRCC/NRCC_CT.zip\n",
      "  processing CT_counties_WGS72\n",
      "  running repair to check for topology problems\n",
      "  attempting to download https://www.wcc.nrcs.usda.gov/ftpref/wntsc/H&H/WinTR20/NRCC/NRCC_MA.zip\n",
      "  processing MA_county_WGS72\n",
      "  running repair to check for topology problems\n",
      "  attempting to download https://www.wcc.nrcs.usda.gov/ftpref/wntsc/H&H/WinTR20/NRCC/NRCC_ME.zip\n",
      "  processing ME_counties_WGS72\n",
      "  running repair to check for topology problems\n",
      "  attempting to download https://www.wcc.nrcs.usda.gov/ftpref/wntsc/H&H/WinTR20/NRCC/NRCC_NH.zip\n",
      "  processing NH_towns_WGS\n",
      "  running repair to check for topology problems\n",
      "  attempting to download https://www.wcc.nrcs.usda.gov/ftpref/wntsc/H&H/WinTR20/NRCC/NRCC_NY.zip\n",
      "  processing NY_counties_WGS72\n",
      "  running repair to check for topology problems\n",
      "  attempting to download https://www.wcc.nrcs.usda.gov/ftpref/wntsc/H&H/WinTR20/NRCC/NRCC_RI.zip\n",
      "  processing RI_counties_WGS72\n",
      "  running repair to check for topology problems\n",
      "  attempting to download https://www.wcc.nrcs.usda.gov/ftpref/wntsc/H&H/WinTR20/NRCC/NRCC_VT.zip\n",
      "  processing VT_counties_WGS72\n",
      "  running repair to check for topology problems\n",
      "Wall time: 3min 17s\n",
      "  counting ireg_zones: 4\n",
      "  counting NOAA_14_east_rf_dist: 93\n",
      "  counting AL_county_split_rf_dist__WGS: 237\n",
      "  counting AR_county_split_WGS: 88\n",
      "  counting CA_6_dist_map: 142\n",
      "  counting CO_NOAA_14_rf_dist: 113\n",
      "  counting DE_counties_WGS72: 5\n",
      "  counting county_FL_WGS_split_poly9: 3888\n",
      "  counting FL_NOAA_14_pts: 128\n",
      "  counting GA_county_split_WGS: 5089\n",
      "  counting county_IA_WGS: 99\n",
      "  counting IN_counties_WGS: 92\n",
      "  counting KY_counties_WGS: 121\n",
      "  counting LA_Parish_split_poly: 8091\n",
      "  counting MD_areas_WGS72: 86\n",
      "  counting county_MN_WGS: 87\n",
      "  counting county_NE_WGS: 93\n",
      "  counting NJ_county_WGS72: 99\n",
      "  counting NV_County_WGS: 17\n",
      "  counting OH_counties_WGS72: 97\n",
      "  counting PA_counties_WGS72: 68\n",
      "  counting SC_NOAA_14_rf_dist: 6\n",
      "  counting TN_NOAA_14_rf_dist: 13\n",
      "  counting VA_counties_and_zones: 159\n",
      "  counting WV_rainfall_distribution: 7\n",
      "  counting CT_counties_WGS72: 39\n",
      "  counting MA_county_WGS72: 253\n",
      "  counting ME_counties_WGS72: 85\n",
      "  counting NH_towns_WGS: 259\n",
      "  counting NY_counties_WGS72: 240\n",
      "  counting RI_counties_WGS72: 22\n",
      "  counting VT_counties_WGS72: 14\n",
      "Wall time: 10.4 s\n",
      "Step 30: Build Rainfall Distribution Layer\n",
      "  License Level: Advanced\n"
     ]
    },
    {
     "data": {
      "application/vnd.jupyter.widget-view+json": {
       "model_id": "",
       "version_major": 2,
       "version_minor": 0
      },
      "text/plain": [
       "IntProgress(value=0, max=6)"
      ]
     },
     "metadata": {},
     "output_type": "display_data"
    },
    {
     "name": "stdout",
     "output_type": "stream",
     "text": [
      "  spatial join FL counties with point data\n",
      "  load matches into reference hash\n",
      "  use hash to populate other county portions and remove small dross\n",
      "  project results into NAD83\n",
      "  create ready version of Florida data\n",
      "Wall time: 7.1 s\n"
     ]
    },
    {
     "data": {
      "application/vnd.jupyter.widget-view+json": {
       "model_id": "",
       "version_major": 2,
       "version_minor": 0
      },
      "text/plain": [
       "IntProgress(value=0, max=5)"
      ]
     },
     "metadata": {},
     "output_type": "display_data"
    },
    {
     "name": "stdout",
     "output_type": "stream",
     "text": [
      "  load state census outline into memory\n",
      "  project NOAA_14_east_rf_dist into NAD83\n",
      "  clip out Illinois portion of NOAA_14_east_rf_dist\n",
      "  create ready version of Illinois data\n",
      "Wall time: 4.92 s\n"
     ]
    },
    {
     "data": {
      "application/vnd.jupyter.widget-view+json": {
       "model_id": "",
       "version_major": 2,
       "version_minor": 0
      },
      "text/plain": [
       "IntProgress(value=0, max=5)"
      ]
     },
     "metadata": {},
     "output_type": "display_data"
    },
    {
     "name": "stdout",
     "output_type": "stream",
     "text": [
      "  load state census outline into memory\n",
      "  project NOAA_14_east_rf_dist into NAD83\n",
      "  clip out North Carolina portion of NOAA_14_east_rf_dist\n",
      "  create ready version of North Carolina data\n",
      "Wall time: 5.33 s\n"
     ]
    },
    {
     "data": {
      "application/vnd.jupyter.widget-view+json": {
       "model_id": "",
       "version_major": 2,
       "version_minor": 0
      },
      "text/plain": [
       "IntProgress(value=0, max=7)"
      ]
     },
     "metadata": {},
     "output_type": "display_data"
    },
    {
     "name": "stdout",
     "output_type": "stream",
     "text": [
      "  project NOAA_14_east_rf_dist into NAD83\n",
      "  project VA_counties_and_zones into NAD83\n",
      "  select Virginia zones with rainfall values defined into memory\n",
      "  select Virginia zones with undefined rainfall values into memory\n",
      "  clip the NOAA_14_east_rf_dist layer using the zones with undefined rainfall values\n",
      "  add back together the Virginia zones with defined rainfall and clipped NOAA_14_rf_dist as ready layer\n",
      "Wall time: 8.61 s\n"
     ]
    },
    {
     "data": {
      "application/vnd.jupyter.widget-view+json": {
       "model_id": "",
       "version_major": 2,
       "version_minor": 0
      },
      "text/plain": [
       "IntProgress(value=0, max=3)"
      ]
     },
     "metadata": {},
     "output_type": "display_data"
    },
    {
     "name": "stdout",
     "output_type": "stream",
     "text": [
      "  load state census outline into memory\n",
      "  use outline to define Alaska as SCS_I\n",
      "Wall time: 2.54 s\n"
     ]
    },
    {
     "data": {
      "application/vnd.jupyter.widget-view+json": {
       "model_id": "",
       "version_major": 2,
       "version_minor": 0
      },
      "text/plain": [
       "IntProgress(value=0, max=5)"
      ]
     },
     "metadata": {},
     "output_type": "display_data"
    },
    {
     "name": "stdout",
     "output_type": "stream",
     "text": [
      "  project CT_counties_WGS72 into NAD83\n",
      "  extract county name values and their centroid numbers into a reference hash\n",
      "  apply hashed county names onto unnamed polygons\n",
      "  update rf values of all CT polygons from rf_values hash\n",
      "Wall time: 3.66 s\n"
     ]
    },
    {
     "data": {
      "application/vnd.jupyter.widget-view+json": {
       "model_id": "",
       "version_major": 2,
       "version_minor": 0
      },
      "text/plain": [
       "IntProgress(value=0, max=104)"
      ]
     },
     "metadata": {},
     "output_type": "display_data"
    },
    {
     "name": "stdout",
     "output_type": "stream",
     "text": [
      "  processing AL_county_split_rf_dist__WGS\n",
      "  processing AR_county_split_WGS\n",
      "  processing CA_6_dist_map\n",
      "  processing CO_NOAA_14_rf_dist\n",
      "  processing DE_counties_WGS72\n",
      "  processing GA_county_split_WGS\n",
      "  processing county_IA_WGS\n",
      "  processing IN_counties_WGS\n",
      "  processing KY_counties_WGS\n",
      "  processing LA_Parish_split_poly\n",
      "  processing MD_areas_WGS72\n",
      "  processing county_MN_WGS\n",
      "  processing county_NE_WGS\n",
      "  processing NJ_county_WGS72\n",
      "  processing NV_County_WGS\n",
      "  processing OH_counties_WGS72\n",
      "  processing PA_counties_WGS72\n",
      "  processing SC_NOAA_14_rf_dist\n",
      "  processing TN_NOAA_14_rf_dist\n",
      "  processing WV_rainfall_distribution\n",
      "  processing MA_county_WGS72\n",
      "  processing ME_counties_WGS72\n",
      "  processing NH_towns_WGS\n",
      "  processing NY_counties_WGS72\n",
      "  processing RI_counties_WGS72\n",
      "  processing VT_counties_WGS72\n",
      "Wall time: 1min 25s\n"
     ]
    },
    {
     "data": {
      "application/vnd.jupyter.widget-view+json": {
       "model_id": "",
       "version_major": 2,
       "version_minor": 0
      },
      "text/plain": [
       "IntProgress(value=0, max=3)"
      ]
     },
     "metadata": {},
     "output_type": "display_data"
    },
    {
     "name": "stdout",
     "output_type": "stream",
     "text": [
      "  building fresh Rainfall Distribution layer\n",
      "  projecting base ireg_zones to NAD83\n",
      "  writing out base ireg_zones into Rainfall Distribution layer\n",
      "Wall time: 4.77 s\n"
     ]
    },
    {
     "data": {
      "application/vnd.jupyter.widget-view+json": {
       "model_id": "",
       "version_major": 2,
       "version_minor": 0
      },
      "text/plain": [
       "IntProgress(value=0, max=32)"
      ]
     },
     "metadata": {},
     "output_type": "display_data"
    },
    {
     "name": "stdout",
     "output_type": "stream",
     "text": [
      "  using Advanced license features...\n",
      "  processing NH_towns_WGS_RDY\n",
      "  processing AL_county_split_rf_dist__WGS_RDY\n",
      "  processing AR_county_split_WGS_RDY\n",
      "  processing CA_6_dist_map_RDY\n",
      "  processing CO_NOAA_14_rf_dist_RDY\n",
      "  processing DE_counties_WGS72_RDY\n",
      "  processing GA_county_split_WGS_RDY\n",
      "  processing county_IA_WGS_RDY\n",
      "  processing IN_counties_WGS_RDY\n",
      "  processing KY_counties_WGS_RDY\n",
      "  processing LA_Parish_split_poly_RDY\n",
      "  processing MD_areas_WGS72_RDY\n",
      "  processing county_MN_WGS_RDY\n",
      "  processing county_NE_WGS_RDY\n",
      "  processing NJ_county_WGS72_RDY\n",
      "  processing NV_County_WGS_RDY\n",
      "  processing OH_counties_WGS72_RDY\n",
      "  processing PA_counties_WGS72_RDY\n",
      "  processing SC_NOAA_14_rf_dist_RDY\n",
      "  processing TN_NOAA_14_rf_dist_RDY\n",
      "  processing VA_counties_and_zones_RDY\n",
      "  processing WV_rainfall_distribution_RDY\n",
      "  processing CT_counties_WGS72_RDY\n",
      "  processing MA_county_WGS72_RDY\n",
      "  processing ME_counties_WGS72_RDY\n",
      "  processing NY_counties_WGS72_RDY\n",
      "  processing RI_counties_WGS72_RDY\n",
      "  processing VT_counties_WGS72_RDY\n",
      "  processing county_FL_WGS_split_poly9_RDY\n",
      "  processing rainfall_IL_RDY\n",
      "  processing rainfall_NC_RDY\n",
      "  processing rainfall_AK_RDY\n",
      "Wall time: 19min 11s\n",
      "  Rainfall Distribution Coverage Count: 19614\n",
      "Wall time: 1.46 s\n",
      "Step 40: Build SWC Stations Dataset\n",
      "  COOP Stations    : 1851\n",
      "  ISD Stations     : 3293\n"
     ]
    },
    {
     "data": {
      "application/vnd.jupyter.widget-view+json": {
       "model_id": "",
       "version_major": 2,
       "version_minor": 0
      },
      "text/plain": [
       "IntProgress(value=0, max=2)"
      ]
     },
     "metadata": {},
     "output_type": "display_data"
    },
    {
     "name": "stdout",
     "output_type": "stream",
     "text": [
      "  creating new working stations\n",
      "  adding indexes\n",
      "Wall time: 1.85 s\n"
     ]
    },
    {
     "data": {
      "application/vnd.jupyter.widget-view+json": {
       "model_id": "",
       "version_major": 2,
       "version_minor": 0
      },
      "text/plain": [
       "IntProgress(value=0, max=2)"
      ]
     },
     "metadata": {},
     "output_type": "display_data"
    },
    {
     "name": "stdout",
     "output_type": "stream",
     "text": [
      "  loading COOP stations\n",
      "  loading ISD stations\n",
      "Wall time: 782 ms\n",
      "  New Stations: 5144\n",
      "Wall time: 1.16 s\n",
      "Step 50: Interpolate CRWU CREAT Grid Projections\n",
      "  Starting Grid Count: 24743\n"
     ]
    },
    {
     "data": {
      "application/vnd.jupyter.widget-view+json": {
       "model_id": "",
       "version_major": 2,
       "version_minor": 0
      },
      "text/plain": [
       "IntProgress(value=0, max=4)"
      ]
     },
     "metadata": {},
     "output_type": "display_data"
    },
    {
     "name": "stdout",
     "output_type": "stream",
     "text": [
      "  selecting only grids with data\n",
      "  Grid Count with Data   : 4928\n",
      "  generating clumps of grid cells with data\n",
      "  Clump Count with Data   : 9\n",
      "  Buffer Count with Data   : 5\n",
      "  converting CREAT3 grids with data to centroids\n",
      "  Centroid Count of Grids with Data: 4928\n",
      "Wall time: 7.32 s\n"
     ]
    },
    {
     "data": {
      "application/vnd.jupyter.widget-view+json": {
       "model_id": "",
       "version_major": 2,
       "version_minor": 0
      },
      "text/plain": [
       "IntProgress(value=0, max=2)"
      ]
     },
     "metadata": {},
     "output_type": "display_data"
    },
    {
     "name": "stdout",
     "output_type": "stream",
     "text": [
      "  selecting only grids with no data\n",
      "  Grid Count with No Data   : 19815\n",
      "  selecting no data grids within the 1 degree buffers\n",
      "  adding row of grids under Puerto Rico for completeness\n",
      "  Grid Count with No Data within Buffer  : 1404\n",
      "Wall time: 8.63 s\n"
     ]
    },
    {
     "data": {
      "application/vnd.jupyter.widget-view+json": {
       "model_id": "",
       "version_major": 2,
       "version_minor": 0
      },
      "text/plain": [
       "IntProgress(value=0, max=723)"
      ]
     },
     "metadata": {},
     "output_type": "display_data"
    },
    {
     "name": "stdout",
     "output_type": "stream",
     "text": [
      "  making working version of interpolated grids\n",
      "  calculating inverse distance weighting for TEMP_2035_HOTDRY_JAN_CHANGEF\n",
      "  converting raster values to points\n",
      "  joining point value back into grid set\n",
      "  storing value in proper field\n",
      "  calculating inverse distance weighting for TEMP_2035_HOTDRY_FEB_CHANGEF\n",
      "  converting raster values to points\n",
      "  joining point value back into grid set\n",
      "  storing value in proper field\n",
      "  calculating inverse distance weighting for TEMP_2035_HOTDRY_MAR_CHANGEF\n",
      "  converting raster values to points\n",
      "  joining point value back into grid set\n",
      "  storing value in proper field\n",
      "  calculating inverse distance weighting for TEMP_2035_HOTDRY_APR_CHANGEF\n",
      "  converting raster values to points\n",
      "  joining point value back into grid set\n",
      "  storing value in proper field\n",
      "  calculating inverse distance weighting for TEMP_2035_HOTDRY_MAY_CHANGEF\n",
      "  converting raster values to points\n",
      "  joining point value back into grid set\n",
      "  storing value in proper field\n",
      "  calculating inverse distance weighting for TEMP_2035_HOTDRY_JUN_CHANGEF\n",
      "  converting raster values to points\n",
      "  joining point value back into grid set\n",
      "  storing value in proper field\n",
      "  calculating inverse distance weighting for TEMP_2035_HOTDRY_JUL_CHANGEF\n",
      "  converting raster values to points\n",
      "  joining point value back into grid set\n",
      "  storing value in proper field\n",
      "  calculating inverse distance weighting for TEMP_2035_HOTDRY_AUG_CHANGEF\n",
      "  converting raster values to points\n",
      "  joining point value back into grid set\n",
      "  storing value in proper field\n",
      "  calculating inverse distance weighting for TEMP_2035_HOTDRY_SEP_CHANGEF\n",
      "  converting raster values to points\n",
      "  joining point value back into grid set\n",
      "  storing value in proper field\n",
      "  calculating inverse distance weighting for TEMP_2035_HOTDRY_OCT_CHANGEF\n",
      "  converting raster values to points\n",
      "  joining point value back into grid set\n",
      "  storing value in proper field\n",
      "  calculating inverse distance weighting for TEMP_2035_HOTDRY_NOV_CHANGEF\n",
      "  converting raster values to points\n",
      "  joining point value back into grid set\n",
      "  storing value in proper field\n",
      "  calculating inverse distance weighting for TEMP_2035_HOTDRY_DEC_CHANGEF\n",
      "  converting raster values to points\n",
      "  joining point value back into grid set\n",
      "  storing value in proper field\n",
      "  calculating inverse distance weighting for TEMP_2035_HOTDRY_ANNUAL_CHANGEF\n",
      "  converting raster values to points\n",
      "  joining point value back into grid set\n",
      "  storing value in proper field\n",
      "  calculating inverse distance weighting for TEMP_2035_CENTRAL_JAN_CHANGEF\n",
      "  converting raster values to points\n",
      "  joining point value back into grid set\n",
      "  storing value in proper field\n",
      "  calculating inverse distance weighting for TEMP_2035_CENTRAL_FEB_CHANGEF\n",
      "  converting raster values to points\n",
      "  joining point value back into grid set\n",
      "  storing value in proper field\n",
      "  calculating inverse distance weighting for TEMP_2035_CENTRAL_MAR_CHANGEF\n",
      "  converting raster values to points\n",
      "  joining point value back into grid set\n",
      "  storing value in proper field\n",
      "  calculating inverse distance weighting for TEMP_2035_CENTRAL_APR_CHANGEF\n",
      "  converting raster values to points\n",
      "  joining point value back into grid set\n",
      "  storing value in proper field\n",
      "  calculating inverse distance weighting for TEMP_2035_CENTRAL_MAY_CHANGEF\n",
      "  converting raster values to points\n",
      "  joining point value back into grid set\n",
      "  storing value in proper field\n",
      "  calculating inverse distance weighting for TEMP_2035_CENTRAL_JUN_CHANGEF\n",
      "  converting raster values to points\n",
      "  joining point value back into grid set\n",
      "  storing value in proper field\n",
      "  calculating inverse distance weighting for TEMP_2035_CENTRAL_JUL_CHANGEF\n",
      "  converting raster values to points\n",
      "  joining point value back into grid set\n",
      "  storing value in proper field\n",
      "  calculating inverse distance weighting for TEMP_2035_CENTRAL_AUG_CHANGEF\n",
      "  converting raster values to points\n",
      "  joining point value back into grid set\n",
      "  storing value in proper field\n",
      "  calculating inverse distance weighting for TEMP_2035_CENTRAL_SEP_CHANGEF\n",
      "  converting raster values to points\n",
      "  joining point value back into grid set\n",
      "  storing value in proper field\n",
      "  calculating inverse distance weighting for TEMP_2035_CENTRAL_OCT_CHANGEF\n",
      "  converting raster values to points\n",
      "  joining point value back into grid set\n",
      "  storing value in proper field\n",
      "  calculating inverse distance weighting for TEMP_2035_CENTRAL_NOV_CHANGEF\n",
      "  converting raster values to points\n",
      "  joining point value back into grid set\n",
      "  storing value in proper field\n",
      "  calculating inverse distance weighting for TEMP_2035_CENTRAL_DEC_CHANGEF\n",
      "  converting raster values to points\n",
      "  joining point value back into grid set\n",
      "  storing value in proper field\n",
      "  calculating inverse distance weighting for TEMP_2035_CENTRAL_ANNUAL_CHANGE\n",
      "  converting raster values to points\n",
      "  joining point value back into grid set\n",
      "  storing value in proper field\n",
      "  calculating inverse distance weighting for TEMP_2035_WETWARM_JAN_CHANGEF\n",
      "  converting raster values to points\n",
      "  joining point value back into grid set\n",
      "  storing value in proper field\n",
      "  calculating inverse distance weighting for TEMP_2035_WETWARM_FEB_CHANGEF\n",
      "  converting raster values to points\n",
      "  joining point value back into grid set\n",
      "  storing value in proper field\n",
      "  calculating inverse distance weighting for TEMP_2035_WETWARM_MAR_CHANGEF\n",
      "  converting raster values to points\n",
      "  joining point value back into grid set\n",
      "  storing value in proper field\n",
      "  calculating inverse distance weighting for TEMP_2035_WETWARM_APR_CHANGEF\n",
      "  converting raster values to points\n",
      "  joining point value back into grid set\n",
      "  storing value in proper field\n",
      "  calculating inverse distance weighting for TEMP_2035_WETWARM_MAY_CHANGEF\n",
      "  converting raster values to points\n",
      "  joining point value back into grid set\n",
      "  storing value in proper field\n",
      "  calculating inverse distance weighting for TEMP_2035_WETWARM_JUN_CHANGEF\n",
      "  converting raster values to points\n",
      "  joining point value back into grid set\n",
      "  storing value in proper field\n",
      "  calculating inverse distance weighting for TEMP_2035_WETWARM_JUL_CHANGEF\n",
      "  converting raster values to points\n",
      "  joining point value back into grid set\n",
      "  storing value in proper field\n",
      "  calculating inverse distance weighting for TEMP_2035_WETWARM_AUG_CHANGEF\n",
      "  converting raster values to points\n",
      "  joining point value back into grid set\n",
      "  storing value in proper field\n",
      "  calculating inverse distance weighting for TEMP_2035_WETWARM_SEP_CHANGEF\n",
      "  converting raster values to points\n",
      "  joining point value back into grid set\n",
      "  storing value in proper field\n",
      "  calculating inverse distance weighting for TEMP_2035_WETWARM_OCT_CHANGEF\n",
      "  converting raster values to points\n",
      "  joining point value back into grid set\n",
      "  storing value in proper field\n",
      "  calculating inverse distance weighting for TEMP_2035_WETWARM_NOV_CHANGEF\n",
      "  converting raster values to points\n",
      "  joining point value back into grid set\n",
      "  storing value in proper field\n",
      "  calculating inverse distance weighting for TEMP_2035_WETWARM_DEC_CHANGEF\n",
      "  converting raster values to points\n",
      "  joining point value back into grid set\n",
      "  storing value in proper field\n",
      "  calculating inverse distance weighting for TEMP_2035_WETWARM_ANNUAL_CHANGE\n",
      "  converting raster values to points\n",
      "  joining point value back into grid set\n",
      "  storing value in proper field\n",
      "  calculating inverse distance weighting for TEMP_2060_HOTDRY_JAN_CHANGEF\n",
      "  converting raster values to points\n",
      "  joining point value back into grid set\n",
      "  storing value in proper field\n",
      "  calculating inverse distance weighting for TEMP_2060_HOTDRY_FEB_CHANGEF\n",
      "  converting raster values to points\n",
      "  joining point value back into grid set\n",
      "  storing value in proper field\n",
      "  calculating inverse distance weighting for TEMP_2060_HOTDRY_MAR_CHANGEF\n",
      "  converting raster values to points\n",
      "  joining point value back into grid set\n",
      "  storing value in proper field\n",
      "  calculating inverse distance weighting for TEMP_2060_HOTDRY_APR_CHANGEF\n",
      "  converting raster values to points\n",
      "  joining point value back into grid set\n",
      "  storing value in proper field\n",
      "  calculating inverse distance weighting for TEMP_2060_HOTDRY_MAY_CHANGEF\n",
      "  converting raster values to points\n",
      "  joining point value back into grid set\n",
      "  storing value in proper field\n",
      "  calculating inverse distance weighting for TEMP_2060_HOTDRY_JUN_CHANGEF\n"
     ]
    },
    {
     "name": "stdout",
     "output_type": "stream",
     "text": [
      "  converting raster values to points\n",
      "  joining point value back into grid set\n",
      "  storing value in proper field\n",
      "  calculating inverse distance weighting for TEMP_2060_HOTDRY_JUL_CHANGEF\n",
      "  converting raster values to points\n",
      "  joining point value back into grid set\n",
      "  storing value in proper field\n",
      "  calculating inverse distance weighting for TEMP_2060_HOTDRY_AUG_CHANGEF\n",
      "  converting raster values to points\n",
      "  joining point value back into grid set\n",
      "  storing value in proper field\n",
      "  calculating inverse distance weighting for TEMP_2060_HOTDRY_SEP_CHANGEF\n",
      "  converting raster values to points\n",
      "  joining point value back into grid set\n",
      "  storing value in proper field\n",
      "  calculating inverse distance weighting for TEMP_2060_HOTDRY_OCT_CHANGEF\n",
      "  converting raster values to points\n",
      "  joining point value back into grid set\n",
      "  storing value in proper field\n",
      "  calculating inverse distance weighting for TEMP_2060_HOTDRY_NOV_CHANGEF\n",
      "  converting raster values to points\n",
      "  joining point value back into grid set\n",
      "  storing value in proper field\n",
      "  calculating inverse distance weighting for TEMP_2060_HOTDRY_DEC_CHANGEF\n",
      "  converting raster values to points\n",
      "  joining point value back into grid set\n",
      "  storing value in proper field\n",
      "  calculating inverse distance weighting for TEMP_2060_HOTDRY_ANNUAL_CHANGEF\n",
      "  converting raster values to points\n",
      "  joining point value back into grid set\n",
      "  storing value in proper field\n",
      "  calculating inverse distance weighting for TEMP_2060_CENTRAL_JAN_CHANGEF\n",
      "  converting raster values to points\n",
      "  joining point value back into grid set\n",
      "  storing value in proper field\n",
      "  calculating inverse distance weighting for TEMP_2060_CENTRAL_FEB_CHANGEF\n",
      "  converting raster values to points\n",
      "  joining point value back into grid set\n",
      "  storing value in proper field\n",
      "  calculating inverse distance weighting for TEMP_2060_CENTRAL_MAR_CHANGEF\n",
      "  converting raster values to points\n",
      "  joining point value back into grid set\n",
      "  storing value in proper field\n",
      "  calculating inverse distance weighting for TEMP_2060_CENTRAL_APR_CHANGEF\n",
      "  converting raster values to points\n",
      "  joining point value back into grid set\n",
      "  storing value in proper field\n",
      "  calculating inverse distance weighting for TEMP_2060_CENTRAL_MAY_CHANGEF\n",
      "  converting raster values to points\n",
      "  joining point value back into grid set\n",
      "  storing value in proper field\n",
      "  calculating inverse distance weighting for TEMP_2060_CENTRAL_JUN_CHANGEF\n",
      "  converting raster values to points\n",
      "  joining point value back into grid set\n",
      "  storing value in proper field\n",
      "  calculating inverse distance weighting for TEMP_2060_CENTRAL_JUL_CHANGEF\n",
      "  converting raster values to points\n",
      "  joining point value back into grid set\n",
      "  storing value in proper field\n",
      "  calculating inverse distance weighting for TEMP_2060_CENTRAL_AUG_CHANGEF\n",
      "  converting raster values to points\n",
      "  joining point value back into grid set\n",
      "  storing value in proper field\n",
      "  calculating inverse distance weighting for TEMP_2060_CENTRAL_SEP_CHANGEF\n",
      "  converting raster values to points\n",
      "  joining point value back into grid set\n",
      "  storing value in proper field\n",
      "  calculating inverse distance weighting for TEMP_2060_CENTRAL_OCT_CHANGEF\n",
      "  converting raster values to points\n",
      "  joining point value back into grid set\n",
      "  storing value in proper field\n",
      "  calculating inverse distance weighting for TEMP_2060_CENTRAL_NOV_CHANGEF\n",
      "  converting raster values to points\n",
      "  joining point value back into grid set\n",
      "  storing value in proper field\n",
      "  calculating inverse distance weighting for TEMP_2060_CENTRAL_DEC_CHANGEF\n",
      "  converting raster values to points\n",
      "  joining point value back into grid set\n",
      "  storing value in proper field\n",
      "  calculating inverse distance weighting for TEMP_2060_CENTRAL_ANNUAL_CHANGE\n",
      "  converting raster values to points\n",
      "  joining point value back into grid set\n",
      "  storing value in proper field\n",
      "  calculating inverse distance weighting for TEMP_2060_WETWARM_JAN_CHANGEF\n",
      "  converting raster values to points\n",
      "  joining point value back into grid set\n",
      "  storing value in proper field\n",
      "  calculating inverse distance weighting for TEMP_2060_WETWARM_FEB_CHANGEF\n",
      "  converting raster values to points\n",
      "  joining point value back into grid set\n",
      "  storing value in proper field\n",
      "  calculating inverse distance weighting for TEMP_2060_WETWARM_MAR_CHANGEF\n",
      "  converting raster values to points\n",
      "  joining point value back into grid set\n",
      "  storing value in proper field\n",
      "  calculating inverse distance weighting for TEMP_2060_WETWARM_APR_CHANGEF\n",
      "  converting raster values to points\n",
      "  joining point value back into grid set\n",
      "  storing value in proper field\n",
      "  calculating inverse distance weighting for TEMP_2060_WETWARM_MAY_CHANGEF\n",
      "  converting raster values to points\n",
      "  joining point value back into grid set\n",
      "  storing value in proper field\n",
      "  calculating inverse distance weighting for TEMP_2060_WETWARM_JUN_CHANGEF\n",
      "  converting raster values to points\n",
      "  joining point value back into grid set\n",
      "  storing value in proper field\n",
      "  calculating inverse distance weighting for TEMP_2060_WETWARM_JUL_CHANGEF\n",
      "  converting raster values to points\n",
      "  joining point value back into grid set\n",
      "  storing value in proper field\n",
      "  calculating inverse distance weighting for TEMP_2060_WETWARM_AUG_CHANGEF\n",
      "  converting raster values to points\n",
      "  joining point value back into grid set\n",
      "  storing value in proper field\n",
      "  calculating inverse distance weighting for TEMP_2060_WETWARM_SEP_CHANGEF\n",
      "  converting raster values to points\n",
      "  joining point value back into grid set\n",
      "  storing value in proper field\n",
      "  calculating inverse distance weighting for TEMP_2060_WETWARM_OCT_CHANGEF\n",
      "  converting raster values to points\n",
      "  joining point value back into grid set\n",
      "  storing value in proper field\n",
      "  calculating inverse distance weighting for TEMP_2060_WETWARM_NOV_CHANGEF\n",
      "  converting raster values to points\n",
      "  joining point value back into grid set\n",
      "  storing value in proper field\n",
      "  calculating inverse distance weighting for TEMP_2060_WETWARM_DEC_CHANGEF\n",
      "  converting raster values to points\n",
      "  joining point value back into grid set\n",
      "  storing value in proper field\n",
      "  calculating inverse distance weighting for TEMP_2060_WETWARM_ANNUAL_CHANGE\n",
      "  converting raster values to points\n",
      "  joining point value back into grid set\n",
      "  storing value in proper field\n",
      "  calculating inverse distance weighting for PRECIP_2035_HOTDRY_JAN_CHANGEPC\n",
      "  converting raster values to points\n",
      "  joining point value back into grid set\n",
      "  storing value in proper field\n",
      "  calculating inverse distance weighting for PRECIP_2035_HOTDRY_FEB_CHANGEPC\n",
      "  converting raster values to points\n",
      "  joining point value back into grid set\n",
      "  storing value in proper field\n",
      "  calculating inverse distance weighting for PRECIP_2035_HOTDRY_MAR_CHANGEPC\n",
      "  converting raster values to points\n",
      "  joining point value back into grid set\n",
      "  storing value in proper field\n",
      "  calculating inverse distance weighting for PRECIP_2035_HOTDRY_APR_CHANGEPC\n",
      "  converting raster values to points\n",
      "  joining point value back into grid set\n",
      "  storing value in proper field\n",
      "  calculating inverse distance weighting for PRECIP_2035_HOTDRY_MAY_CHANGEPC\n",
      "  converting raster values to points\n",
      "  joining point value back into grid set\n",
      "  storing value in proper field\n",
      "  calculating inverse distance weighting for PRECIP_2035_HOTDRY_JUN_CHANGEPC\n",
      "  converting raster values to points\n",
      "  joining point value back into grid set\n",
      "  storing value in proper field\n",
      "  calculating inverse distance weighting for PRECIP_2035_HOTDRY_JUL_CHANGEPC\n",
      "  converting raster values to points\n",
      "  joining point value back into grid set\n",
      "  storing value in proper field\n",
      "  calculating inverse distance weighting for PRECIP_2035_HOTDRY_AUG_CHANGEPC\n",
      "  converting raster values to points\n",
      "  joining point value back into grid set\n",
      "  storing value in proper field\n",
      "  calculating inverse distance weighting for PRECIP_2035_HOTDRY_SEP_CHANGEPC\n",
      "  converting raster values to points\n",
      "  joining point value back into grid set\n",
      "  storing value in proper field\n",
      "  calculating inverse distance weighting for PRECIP_2035_HOTDRY_OCT_CHANGEPC\n",
      "  converting raster values to points\n",
      "  joining point value back into grid set\n",
      "  storing value in proper field\n",
      "  calculating inverse distance weighting for PRECIP_2035_HOTDRY_NOV_CHANGEPC\n",
      "  converting raster values to points\n"
     ]
    },
    {
     "name": "stdout",
     "output_type": "stream",
     "text": [
      "  joining point value back into grid set\n",
      "  storing value in proper field\n",
      "  calculating inverse distance weighting for PRECIP_2035_HOTDRY_DEC_CHANGEPC\n",
      "  converting raster values to points\n",
      "  joining point value back into grid set\n",
      "  storing value in proper field\n",
      "  calculating inverse distance weighting for PRECIP_2035_HOTDRY_ANNUAL_CHANG\n",
      "  converting raster values to points\n",
      "  joining point value back into grid set\n",
      "  storing value in proper field\n",
      "  calculating inverse distance weighting for PRECIP_2035_CENTRAL_JAN_CHANGEP\n",
      "  converting raster values to points\n",
      "  joining point value back into grid set\n",
      "  storing value in proper field\n",
      "  calculating inverse distance weighting for PRECIP_2035_CENTRAL_FEB_CHANGEP\n",
      "  converting raster values to points\n",
      "  joining point value back into grid set\n",
      "  storing value in proper field\n",
      "  calculating inverse distance weighting for PRECIP_2035_CENTRAL_MAR_CHANGEP\n",
      "  converting raster values to points\n",
      "  joining point value back into grid set\n",
      "  storing value in proper field\n",
      "  calculating inverse distance weighting for PRECIP_2035_CENTRAL_APR_CHANGEP\n",
      "  converting raster values to points\n",
      "  joining point value back into grid set\n",
      "  storing value in proper field\n",
      "  calculating inverse distance weighting for PRECIP_2035_CENTRAL_MAY_CHANGEP\n",
      "  converting raster values to points\n",
      "  joining point value back into grid set\n",
      "  storing value in proper field\n",
      "  calculating inverse distance weighting for PRECIP_2035_CENTRAL_JUN_CHANGEP\n",
      "  converting raster values to points\n",
      "  joining point value back into grid set\n",
      "  storing value in proper field\n",
      "  calculating inverse distance weighting for PRECIP_2035_CENTRAL_JUL_CHANGEP\n",
      "  converting raster values to points\n",
      "  joining point value back into grid set\n",
      "  storing value in proper field\n",
      "  calculating inverse distance weighting for PRECIP_2035_CENTRAL_AUG_CHANGEP\n",
      "  converting raster values to points\n",
      "  joining point value back into grid set\n",
      "  storing value in proper field\n",
      "  calculating inverse distance weighting for PRECIP_2035_CENTRAL_SEP_CHANGEP\n",
      "  converting raster values to points\n",
      "  joining point value back into grid set\n",
      "  storing value in proper field\n",
      "  calculating inverse distance weighting for PRECIP_2035_CENTRAL_OCT_CHANGEP\n",
      "  converting raster values to points\n",
      "  joining point value back into grid set\n",
      "  storing value in proper field\n",
      "  calculating inverse distance weighting for PRECIP_2035_CENTRAL_NOV_CHANGEP\n",
      "  converting raster values to points\n",
      "  joining point value back into grid set\n",
      "  storing value in proper field\n",
      "  calculating inverse distance weighting for PRECIP_2035_CENTRAL_DEC_CHANGEP\n",
      "  converting raster values to points\n",
      "  joining point value back into grid set\n",
      "  storing value in proper field\n",
      "  calculating inverse distance weighting for PRECIP_2035_CENTRAL_ANNUAL_CHAN\n",
      "  converting raster values to points\n",
      "  joining point value back into grid set\n",
      "  storing value in proper field\n",
      "  calculating inverse distance weighting for PRECIP_2035_WETWARM_JAN_CHANGEP\n",
      "  converting raster values to points\n",
      "  joining point value back into grid set\n",
      "  storing value in proper field\n",
      "  calculating inverse distance weighting for PRECIP_2035_WETWARM_FEB_CHANGEP\n",
      "  converting raster values to points\n",
      "  joining point value back into grid set\n",
      "  storing value in proper field\n",
      "  calculating inverse distance weighting for PRECIP_2035_WETWARM_MAR_CHANGEP\n",
      "  converting raster values to points\n",
      "  joining point value back into grid set\n",
      "  storing value in proper field\n",
      "  calculating inverse distance weighting for PRECIP_2035_WETWARM_APR_CHANGEP\n",
      "  converting raster values to points\n",
      "  joining point value back into grid set\n",
      "  storing value in proper field\n",
      "  calculating inverse distance weighting for PRECIP_2035_WETWARM_MAY_CHANGEP\n",
      "  converting raster values to points\n",
      "  joining point value back into grid set\n",
      "  storing value in proper field\n",
      "  calculating inverse distance weighting for PRECIP_2035_WETWARM_JUN_CHANGEP\n",
      "  converting raster values to points\n",
      "  joining point value back into grid set\n",
      "  storing value in proper field\n",
      "  calculating inverse distance weighting for PRECIP_2035_WETWARM_JUL_CHANGEP\n",
      "  converting raster values to points\n",
      "  joining point value back into grid set\n",
      "  storing value in proper field\n",
      "  calculating inverse distance weighting for PRECIP_2035_WETWARM_AUG_CHANGEP\n",
      "  converting raster values to points\n",
      "  joining point value back into grid set\n",
      "  storing value in proper field\n",
      "  calculating inverse distance weighting for PRECIP_2035_WETWARM_SEP_CHANGEP\n",
      "  converting raster values to points\n",
      "  joining point value back into grid set\n",
      "  storing value in proper field\n",
      "  calculating inverse distance weighting for PRECIP_2035_WETWARM_OCT_CHANGEP\n",
      "  converting raster values to points\n",
      "  joining point value back into grid set\n",
      "  storing value in proper field\n",
      "  calculating inverse distance weighting for PRECIP_2035_WETWARM_NOV_CHANGEP\n",
      "  converting raster values to points\n",
      "  joining point value back into grid set\n",
      "  storing value in proper field\n",
      "  calculating inverse distance weighting for PRECIP_2035_WETWARM_DEC_CHANGEP\n",
      "  converting raster values to points\n",
      "  joining point value back into grid set\n",
      "  storing value in proper field\n",
      "  calculating inverse distance weighting for PRECIP_2035_WETWARM_ANNUAL_CHAN\n",
      "  converting raster values to points\n",
      "  joining point value back into grid set\n",
      "  storing value in proper field\n",
      "  calculating inverse distance weighting for PRECIP_2060_HOTDRY_JAN_CHANGEPC\n",
      "  converting raster values to points\n",
      "  joining point value back into grid set\n",
      "  storing value in proper field\n",
      "  calculating inverse distance weighting for PRECIP_2060_HOTDRY_FEB_CHANGEPC\n",
      "  converting raster values to points\n",
      "  joining point value back into grid set\n",
      "  storing value in proper field\n",
      "  calculating inverse distance weighting for PRECIP_2060_HOTDRY_MAR_CHANGEPC\n",
      "  converting raster values to points\n",
      "  joining point value back into grid set\n",
      "  storing value in proper field\n",
      "  calculating inverse distance weighting for PRECIP_2060_HOTDRY_APR_CHANGEPC\n",
      "  converting raster values to points\n",
      "  joining point value back into grid set\n",
      "  storing value in proper field\n",
      "  calculating inverse distance weighting for PRECIP_2060_HOTDRY_MAY_CHANGEPC\n",
      "  converting raster values to points\n",
      "  joining point value back into grid set\n",
      "  storing value in proper field\n",
      "  calculating inverse distance weighting for PRECIP_2060_HOTDRY_JUN_CHANGEPC\n",
      "  converting raster values to points\n",
      "  joining point value back into grid set\n",
      "  storing value in proper field\n",
      "  calculating inverse distance weighting for PRECIP_2060_HOTDRY_JUL_CHANGEPC\n",
      "  converting raster values to points\n",
      "  joining point value back into grid set\n",
      "  storing value in proper field\n",
      "  calculating inverse distance weighting for PRECIP_2060_HOTDRY_AUG_CHANGEPC\n",
      "  converting raster values to points\n",
      "  joining point value back into grid set\n",
      "  storing value in proper field\n",
      "  calculating inverse distance weighting for PRECIP_2060_HOTDRY_SEP_CHANGEPC\n",
      "  converting raster values to points\n",
      "  joining point value back into grid set\n",
      "  storing value in proper field\n",
      "  calculating inverse distance weighting for PRECIP_2060_HOTDRY_OCT_CHANGEPC\n",
      "  converting raster values to points\n",
      "  joining point value back into grid set\n",
      "  storing value in proper field\n",
      "  calculating inverse distance weighting for PRECIP_2060_HOTDRY_NOV_CHANGEPC\n",
      "  converting raster values to points\n",
      "  joining point value back into grid set\n",
      "  storing value in proper field\n",
      "  calculating inverse distance weighting for PRECIP_2060_HOTDRY_DEC_CHANGEPC\n",
      "  converting raster values to points\n",
      "  joining point value back into grid set\n",
      "  storing value in proper field\n",
      "  calculating inverse distance weighting for PRECIP_2060_HOTDRY_ANNUAL_CHANG\n",
      "  converting raster values to points\n",
      "  joining point value back into grid set\n",
      "  storing value in proper field\n",
      "  calculating inverse distance weighting for PRECIP_2060_CENTRAL_JAN_CHANGEP\n",
      "  converting raster values to points\n",
      "  joining point value back into grid set\n",
      "  storing value in proper field\n",
      "  calculating inverse distance weighting for PRECIP_2060_CENTRAL_FEB_CHANGEP\n",
      "  converting raster values to points\n",
      "  joining point value back into grid set\n",
      "  storing value in proper field\n",
      "  calculating inverse distance weighting for PRECIP_2060_CENTRAL_MAR_CHANGEP\n",
      "  converting raster values to points\n"
     ]
    },
    {
     "name": "stdout",
     "output_type": "stream",
     "text": [
      "  joining point value back into grid set\n",
      "  storing value in proper field\n",
      "  calculating inverse distance weighting for PRECIP_2060_CENTRAL_APR_CHANGEP\n",
      "  converting raster values to points\n",
      "  joining point value back into grid set\n",
      "  storing value in proper field\n",
      "  calculating inverse distance weighting for PRECIP_2060_CENTRAL_MAY_CHANGEP\n",
      "  converting raster values to points\n",
      "  joining point value back into grid set\n",
      "  storing value in proper field\n",
      "  calculating inverse distance weighting for PRECIP_2060_CENTRAL_JUN_CHANGEP\n",
      "  converting raster values to points\n",
      "  joining point value back into grid set\n",
      "  storing value in proper field\n",
      "  calculating inverse distance weighting for PRECIP_2060_CENTRAL_JUL_CHANGEP\n",
      "  converting raster values to points\n",
      "  joining point value back into grid set\n",
      "  storing value in proper field\n",
      "  calculating inverse distance weighting for PRECIP_2060_CENTRAL_AUG_CHANGEP\n",
      "  converting raster values to points\n",
      "  joining point value back into grid set\n",
      "  storing value in proper field\n",
      "  calculating inverse distance weighting for PRECIP_2060_CENTRAL_SEP_CHANGEP\n",
      "  converting raster values to points\n",
      "  joining point value back into grid set\n",
      "  storing value in proper field\n",
      "  calculating inverse distance weighting for PRECIP_2060_CENTRAL_OCT_CHANGEP\n",
      "  converting raster values to points\n",
      "  joining point value back into grid set\n",
      "  storing value in proper field\n",
      "  calculating inverse distance weighting for PRECIP_2060_CENTRAL_NOV_CHANGEP\n",
      "  converting raster values to points\n",
      "  joining point value back into grid set\n",
      "  storing value in proper field\n",
      "  calculating inverse distance weighting for PRECIP_2060_CENTRAL_DEC_CHANGEP\n",
      "  converting raster values to points\n",
      "  joining point value back into grid set\n",
      "  storing value in proper field\n",
      "  calculating inverse distance weighting for PRECIP_2060_CENTRAL_ANNUAL_CHAN\n",
      "  converting raster values to points\n",
      "  joining point value back into grid set\n",
      "  storing value in proper field\n",
      "  calculating inverse distance weighting for PRECIP_2060_WETWARM_JAN_CHANGEP\n",
      "  converting raster values to points\n",
      "  joining point value back into grid set\n",
      "  storing value in proper field\n",
      "  calculating inverse distance weighting for PRECIP_2060_WETWARM_FEB_CHANGEP\n",
      "  converting raster values to points\n",
      "  joining point value back into grid set\n",
      "  storing value in proper field\n",
      "  calculating inverse distance weighting for PRECIP_2060_WETWARM_MAR_CHANGEP\n",
      "  converting raster values to points\n",
      "  joining point value back into grid set\n",
      "  storing value in proper field\n",
      "  calculating inverse distance weighting for PRECIP_2060_WETWARM_APR_CHANGEP\n",
      "  converting raster values to points\n",
      "  joining point value back into grid set\n",
      "  storing value in proper field\n",
      "  calculating inverse distance weighting for PRECIP_2060_WETWARM_MAY_CHANGEP\n",
      "  converting raster values to points\n",
      "  joining point value back into grid set\n",
      "  storing value in proper field\n",
      "  calculating inverse distance weighting for PRECIP_2060_WETWARM_JUN_CHANGEP\n",
      "  converting raster values to points\n",
      "  joining point value back into grid set\n",
      "  storing value in proper field\n",
      "  calculating inverse distance weighting for PRECIP_2060_WETWARM_JUL_CHANGEP\n",
      "  converting raster values to points\n",
      "  joining point value back into grid set\n",
      "  storing value in proper field\n",
      "  calculating inverse distance weighting for PRECIP_2060_WETWARM_AUG_CHANGEP\n",
      "  converting raster values to points\n",
      "  joining point value back into grid set\n",
      "  storing value in proper field\n",
      "  calculating inverse distance weighting for PRECIP_2060_WETWARM_SEP_CHANGEP\n",
      "  converting raster values to points\n",
      "  joining point value back into grid set\n",
      "  storing value in proper field\n",
      "  calculating inverse distance weighting for PRECIP_2060_WETWARM_OCT_CHANGEP\n",
      "  converting raster values to points\n",
      "  joining point value back into grid set\n",
      "  storing value in proper field\n",
      "  calculating inverse distance weighting for PRECIP_2060_WETWARM_NOV_CHANGEP\n",
      "  converting raster values to points\n",
      "  joining point value back into grid set\n",
      "  storing value in proper field\n",
      "  calculating inverse distance weighting for PRECIP_2060_WETWARM_DEC_CHANGEP\n",
      "  converting raster values to points\n",
      "  joining point value back into grid set\n",
      "  storing value in proper field\n",
      "  calculating inverse distance weighting for PRECIP_2060_WETWARM_ANNUAL_CHAN\n",
      "  converting raster values to points\n",
      "  joining point value back into grid set\n",
      "  storing value in proper field\n",
      "  calculating inverse distance weighting for STORM5YR_2035_STORMY_ANNUAL_CHA\n",
      "  converting raster values to points\n",
      "  joining point value back into grid set\n",
      "  storing value in proper field\n",
      "  calculating inverse distance weighting for STORM10YR_2035_STORMY_ANNUAL_CH\n",
      "  converting raster values to points\n",
      "  joining point value back into grid set\n",
      "  storing value in proper field\n",
      "  calculating inverse distance weighting for STORM15YR_2035_STORMY_ANNUAL_CH\n",
      "  converting raster values to points\n",
      "  joining point value back into grid set\n",
      "  storing value in proper field\n",
      "  calculating inverse distance weighting for STORM30YR_2035_STORMY_ANNUAL_CH\n",
      "  converting raster values to points\n",
      "  joining point value back into grid set\n",
      "  storing value in proper field\n",
      "  calculating inverse distance weighting for STORM50YR_2035_STORMY_ANNUAL_CH\n",
      "  converting raster values to points\n",
      "  joining point value back into grid set\n",
      "  storing value in proper field\n",
      "  calculating inverse distance weighting for STORM100YR_2035_STORMY_ANNUAL_C\n",
      "  converting raster values to points\n",
      "  joining point value back into grid set\n",
      "  storing value in proper field\n",
      "  calculating inverse distance weighting for STORM5YR_2060_STORMY_ANNUAL_CHA\n",
      "  converting raster values to points\n",
      "  joining point value back into grid set\n",
      "  storing value in proper field\n",
      "  calculating inverse distance weighting for STORM10YR_2060_STORMY_ANNUAL_CH\n",
      "  converting raster values to points\n",
      "  joining point value back into grid set\n",
      "  storing value in proper field\n",
      "  calculating inverse distance weighting for STORM15YR_2060_STORMY_ANNUAL_CH\n",
      "  converting raster values to points\n",
      "  joining point value back into grid set\n",
      "  storing value in proper field\n",
      "  calculating inverse distance weighting for STORM30YR_2060_STORMY_ANNUAL_CH\n",
      "  converting raster values to points\n",
      "  joining point value back into grid set\n",
      "  storing value in proper field\n",
      "  calculating inverse distance weighting for STORM50YR_2060_STORMY_ANNUAL_CH\n",
      "  converting raster values to points\n",
      "  joining point value back into grid set\n",
      "  storing value in proper field\n",
      "  calculating inverse distance weighting for STORM100YR_2060_STORMY_ANNUAL_C\n",
      "  converting raster values to points\n",
      "  joining point value back into grid set\n",
      "  storing value in proper field\n",
      "  calculating inverse distance weighting for STORM5YR_2035_LESSSTORMY_ANNUAL\n",
      "  converting raster values to points\n",
      "  joining point value back into grid set\n",
      "  storing value in proper field\n",
      "  calculating inverse distance weighting for STORM10YR_2035_LESSSTORMY_ANNUA\n",
      "  converting raster values to points\n",
      "  joining point value back into grid set\n",
      "  storing value in proper field\n",
      "  calculating inverse distance weighting for STORM15YR_2035_LESSSTORMY_ANNUA\n",
      "  converting raster values to points\n",
      "  joining point value back into grid set\n",
      "  storing value in proper field\n",
      "  calculating inverse distance weighting for STORM30YR_2035_LESSSTORMY_ANNUA\n",
      "  converting raster values to points\n",
      "  joining point value back into grid set\n",
      "  storing value in proper field\n",
      "  calculating inverse distance weighting for STORM50YR_2035_LESSSTORMY_ANNUA\n",
      "  converting raster values to points\n",
      "  joining point value back into grid set\n",
      "  storing value in proper field\n",
      "  calculating inverse distance weighting for STORM100YR_2035_LESSSTORMY_ANNU\n",
      "  converting raster values to points\n",
      "  joining point value back into grid set\n",
      "  storing value in proper field\n",
      "  calculating inverse distance weighting for STORM5YR_2060_LESSSTORMY_ANNUAL\n",
      "  converting raster values to points\n",
      "  joining point value back into grid set\n",
      "  storing value in proper field\n",
      "  calculating inverse distance weighting for STORM10YR_2060_LESSSTORMY_ANNUA\n",
      "  converting raster values to points\n",
      "  joining point value back into grid set\n",
      "  storing value in proper field\n",
      "  calculating inverse distance weighting for STORM15YR_2060_LESSSTORMY_ANNUA\n",
      "  converting raster values to points\n"
     ]
    },
    {
     "name": "stdout",
     "output_type": "stream",
     "text": [
      "  joining point value back into grid set\n",
      "  storing value in proper field\n",
      "  calculating inverse distance weighting for STORM30YR_2060_LESSSTORMY_ANNUA\n",
      "  converting raster values to points\n",
      "  joining point value back into grid set\n",
      "  storing value in proper field\n",
      "  calculating inverse distance weighting for STORM50YR_2060_LESSSTORMY_ANNUA\n",
      "  converting raster values to points\n",
      "  joining point value back into grid set\n",
      "  storing value in proper field\n",
      "  calculating inverse distance weighting for STORM100YR_2060_LESSSTORMY_ANNU\n",
      "  converting raster values to points\n",
      "  joining point value back into grid set\n",
      "  storing value in proper field\n",
      "  Interpolated Grid Count : 1404\n",
      "Wall time: 19min 1s\n"
     ]
    },
    {
     "data": {
      "application/vnd.jupyter.widget-view+json": {
       "model_id": "",
       "version_major": 2,
       "version_minor": 0
      },
      "text/plain": [
       "IntProgress(value=0, max=2)"
      ]
     },
     "metadata": {},
     "output_type": "display_data"
    },
    {
     "name": "stdout",
     "output_type": "stream",
     "text": [
      "  make new copy of grids with data\n",
      "  append in interpolated grids into new copy\n",
      "  Interpolated Grid Count : 6332\n",
      "Wall time: 5.28 s\n",
      "Wall time: 136 ms\n",
      "Step 60: Generate SWC PREC Datasets\n",
      "  Station Count          : 5136\n",
      "  Interpolated Grid Count: 6332\n",
      "  Historic Station Count : 11165\n",
      "  Rainfall Distribution Coverage Count: 19614\n"
     ]
    },
    {
     "data": {
      "application/vnd.jupyter.widget-view+json": {
       "model_id": "",
       "version_major": 2,
       "version_minor": 0
      },
      "text/plain": [
       "IntProgress(value=0, max=7)"
      ]
     },
     "metadata": {},
     "output_type": "display_data"
    },
    {
     "name": "stdout",
     "output_type": "stream",
     "text": [
      "  copying to new work stations\n",
      "  add tracking fields for joined data\n",
      "  calculating the nearest historic station\n",
      "  adding indexes\n",
      "  joining in historic storms information\n",
      "  tracking unmatched stations\n",
      "  cleaning up unneeded fields\n",
      "Wall time: 11.7 s\n"
     ]
    },
    {
     "data": {
      "application/vnd.jupyter.widget-view+json": {
       "model_id": "",
       "version_major": 2,
       "version_minor": 0
      },
      "text/plain": [
       "IntProgress(value=0, max=183)"
      ]
     },
     "metadata": {},
     "output_type": "display_data"
    },
    {
     "name": "stdout",
     "output_type": "stream",
     "text": [
      "  calculating the containing CREAT3 grid with precipitation data\n",
      "  updating tracking fields for grid source\n",
      "  cleaning up unneeded fields\n",
      "  zeroing out unmatched stations\n",
      "Wall time: 2min 47s\n"
     ]
    },
    {
     "data": {
      "application/vnd.jupyter.widget-view+json": {
       "model_id": "",
       "version_major": 2,
       "version_minor": 0
      },
      "text/plain": [
       "IntProgress(value=0, max=4)"
      ]
     },
     "metadata": {},
     "output_type": "display_data"
    },
    {
     "name": "stdout",
     "output_type": "stream",
     "text": [
      "  copying to new work stations\n",
      "  calculating the nearest rainfall coverage polygon within 1 degree(s)\n",
      "  joining in rainfall distribution information\n",
      "  tracking unmatched stations\n",
      "  cleaning up unneeded fields\n",
      "Wall time: 12min 31s\n"
     ]
    },
    {
     "data": {
      "application/vnd.jupyter.widget-view+json": {
       "model_id": "",
       "version_major": 2,
       "version_minor": 0
      },
      "text/plain": [
       "IntProgress(value=0, max=17)"
      ]
     },
     "metadata": {},
     "output_type": "display_data"
    },
    {
     "name": "stdout",
     "output_type": "stream",
     "text": [
      "  creating fresh TEMP feature classes\n",
      "  creating fresh PREC feature classes\n",
      "  creating fresh GEVddepth feature classes\n",
      "  creating fresh PREC_SCS_Types feature class\n",
      "Wall time: 26 s\n"
     ]
    },
    {
     "data": {
      "application/vnd.jupyter.widget-view+json": {
       "model_id": "",
       "version_major": 2,
       "version_minor": 0
      },
      "text/plain": [
       "IntProgress(value=0, max=2)"
      ]
     },
     "metadata": {},
     "output_type": "display_data"
    },
    {
     "name": "stdout",
     "output_type": "stream",
     "text": [
      "  truncate datasets for safety\n",
      "  opening an editor session to support multiple cursors\n",
      "  writing the station data to individual feature classes\n",
      "Wall time: 16.1 s\n"
     ]
    },
    {
     "data": {
      "application/vnd.jupyter.widget-view+json": {
       "model_id": "",
       "version_major": 2,
       "version_minor": 0
      },
      "text/plain": [
       "IntProgress(value=0, max=2)"
      ]
     },
     "metadata": {},
     "output_type": "display_data"
    },
    {
     "name": "stdout",
     "output_type": "stream",
     "text": [
      "  copying to workstations results\n",
      "  cleaning up the fieldset\n",
      "Wall time: 54.7 s\n",
      "  D4EMLite_PREC_Details Count : 5136\n",
      "  TEMP2035HotDry Count        : 0\n",
      "  TEMP2035Central Count       : 0\n",
      "  TEMP2035WetWarm Count       : 0\n",
      "  TEMP2060HotDry Count        : 0\n",
      "  TEMP2060Central Count       : 0\n",
      "  TEMP2060WetWarm Count       : 0\n",
      "  PREC2035HotDry Count        : 0\n",
      "  PREC2035Central Count       : 0\n",
      "  PREC2035WetWarm Count       : 0\n",
      "  PREC2060HotDry Count        : 0\n",
      "  PREC2060Central Count       : 0\n",
      "  PREC2060WetWarm Count       : 0\n",
      "  GEVdepth2035Stormy Count    : 0\n",
      "  GEVdepth2035LessStormy Count: 0\n",
      "  GEVdepth2060Stormy Count    : 0\n",
      "  GEVdepth2060LessStormy Count: 0\n",
      "  GEVdepth_historical Count   : 0\n",
      "  PREC_SCS_Types Count        : 0\n",
      " \n",
      "Step 70: Export SWC PREC Filesets\n",
      "  Station Count               : 5136\n",
      "  PREC2035HotDry Count        : 0\n",
      "  PREC2035Central Count       : 0\n",
      "  PREC2035WetWarm Count       : 0\n",
      "  PREC2060HotDry Count        : 0\n",
      "  PREC2060Central Count       : 0\n",
      "  PREC2060WetWarm Count       : 0\n",
      "  GEVdepth2035Stormy Count    : 0\n",
      "  GEVdepth2035LessStormy Count: 0\n",
      "  GEVdepth2060Stormy Count    : 0\n",
      "  GEVdepth2060LessStormy Count: 0\n",
      "  GEVdepth_historical Count   : 0\n",
      "  PREC_SCS_Types Count        : 0\n"
     ]
    },
    {
     "data": {
      "application/vnd.jupyter.widget-view+json": {
       "model_id": "",
       "version_major": 2,
       "version_minor": 0
      },
      "text/plain": [
       "IntProgress(value=0, max=1)"
      ]
     },
     "metadata": {},
     "output_type": "display_data"
    },
    {
     "name": "stdout",
     "output_type": "stream",
     "text": [
      "  wrote 5121 records to D4EMLite_PREC_Details.txt.\n",
      "Wall time: 241 ms\n"
     ]
    },
    {
     "data": {
      "application/vnd.jupyter.widget-view+json": {
       "model_id": "",
       "version_major": 2,
       "version_minor": 0
      },
      "text/plain": [
       "IntProgress(value=0, max=12)"
      ]
     },
     "metadata": {},
     "output_type": "display_data"
    },
    {
     "name": "stdout",
     "output_type": "stream",
     "text": [
      "  wrote 5121 records to TEMP2035HotDry.txt.\n",
      "  wrote 5121 records to TEMP2035Central.txt.\n",
      "  wrote 5121 records to TEMP2035WetWarm.txt.\n",
      "  wrote 5121 records to TEMP2060HotDry.txt.\n",
      "  wrote 5121 records to TEMP2060Central.txt.\n",
      "  wrote 5121 records to TEMP2060WetWarm.txt.\n",
      "  wrote 5121 records to PREC2035HotDry.txt.\n",
      "  wrote 5121 records to PREC2035Central.txt.\n",
      "  wrote 5121 records to PREC2035WetWarm.txt.\n",
      "  wrote 5121 records to PREC2060HotDry.txt.\n",
      "  wrote 5121 records to PREC2060Central.txt.\n",
      "  wrote 5121 records to PREC2060WetWarm.txt.\n",
      "Wall time: 2.01 s\n"
     ]
    },
    {
     "data": {
      "application/vnd.jupyter.widget-view+json": {
       "model_id": "",
       "version_major": 2,
       "version_minor": 0
      },
      "text/plain": [
       "IntProgress(value=0, max=6)"
      ]
     },
     "metadata": {},
     "output_type": "display_data"
    },
    {
     "name": "stdout",
     "output_type": "stream",
     "text": [
      "  wrote 5121 records to GEVdepth2035Stormy.txt.\n",
      "  wrote 5121 records to GEVdepth2035LessStormy.txt.\n",
      "  wrote 5121 records to GEVdepth2060Stormy.txt.\n",
      "  wrote 5121 records to GEVdepth2060LessStormy.txt.\n",
      "  wrote 5121 records to GEVdepth_historical.txt.\n",
      "  wrote 5121 records to PREC_SCS_Types.txt.\n",
      "Wall time: 768 ms\n"
     ]
    },
    {
     "data": {
      "application/vnd.jupyter.widget-view+json": {
       "model_id": "",
       "version_major": 2,
       "version_minor": 0
      },
      "text/plain": [
       "IntProgress(value=0, max=1)"
      ]
     },
     "metadata": {},
     "output_type": "display_data"
    },
    {
     "name": "stdout",
     "output_type": "stream",
     "text": [
      "  writing new SCS24Hour.txt file\n",
      "  wrote 241 records to SCS24Hour.txt.\n",
      "Wall time: 263 ms\n",
      "All processing steps complete\n",
      "Wall time: 1h 8min 27s\n"
     ]
    }
   ],
   "source": [
    "%%time\n",
    "\n",
    "%run ./systemcheck.ipynb\n",
    "%run ./scrubrepo.ipynb\n",
    "%run ./STEP_10_Gather_Source_Datasets.ipynb\n",
    "%run ./STEP_20_Gather_Rainfall_Distribution_Datasets.ipynb\n",
    "%run ./STEP_30_Build_Rainfall_Distribution_Layer.ipynb\n",
    "%run ./STEP_40_Build_SWC_Stations_Dataset.ipynb\n",
    "%run ./STEP_50_Interpolate_CRWU_CREAT_Grid_Projections.ipynb\n",
    "%run ./STEP_60_Generate_SWC_PREC_Datasets.ipynb\n",
    "%run ./STEP_70_Export_SWC_PREC_Filesets.ipynb\n",
    "print(\"All processing steps complete\");\n"
   ]
  },
  {
   "cell_type": "code",
   "execution_count": null,
   "metadata": {},
   "outputs": [],
   "source": []
  }
 ],
 "metadata": {
  "kernelspec": {
   "display_name": "Python 3",
   "language": "python",
   "name": "python3"
  },
  "language_info": {
   "codemirror_mode": {
    "name": "ipython",
    "version": 3
   },
   "file_extension": ".py",
   "mimetype": "text/x-python",
   "name": "python",
   "nbconvert_exporter": "python",
   "pygments_lexer": "ipython3",
   "version": "3.7.10"
  }
 },
 "nbformat": 4,
 "nbformat_minor": 4
}
