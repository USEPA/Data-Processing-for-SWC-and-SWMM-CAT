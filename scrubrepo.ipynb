{
 "cells": [
  {
   "cell_type": "markdown",
   "metadata": {},
   "source": [
    "## Scrub Repository Utility\n",
    "\n",
    "Purpose: used to reset the repository directory to the default state as provided by the GitHub repository.  \n",
    "Useful for testing and could be used to clear results to conserve local disk space.  A better approach would be to \n",
    "delete the repository utterly and recreate from the EPA GitHub.\n",
    "\n",
    "**Warning:** this notebook will delete any preexisting project results!\n",
    "\n",
    "Note: Jupyter notebooks may hold locks on the file geodatabases preventing easy deletion.  If you receive locking errors try shutting down any other notebooks you have open via the Jupyter Running console.\n"
   ]
  },
  {
   "cell_type": "code",
   "execution_count": 5,
   "metadata": {},
   "outputs": [
    {
     "name": "stdout",
     "output_type": "stream",
     "text": [
      "scrubbing repository of previous results...\n",
      "scrub complete.\n"
     ]
    }
   ],
   "source": [
    "import arcpy,os;\n",
    "\n",
    "print(\"scrubbing repository of previous results...\");\n",
    "\n",
    "if arcpy.Exists(os.getcwd() + os.sep + 'source.gdb'):\n",
    "    arcpy.Delete_management(os.getcwd() + os.sep + 'source.gdb');\n",
    "\n",
    "if arcpy.Exists(os.getcwd() + os.sep + 'working.gdb'):\n",
    "    arcpy.Delete_management(os.getcwd() + os.sep + 'working.gdb');\n",
    "    \n",
    "if arcpy.Exists(os.getcwd() + os.sep + 'results.gdb'):\n",
    "    arcpy.Delete_management(os.getcwd() + os.sep + 'results.gdb');\n",
    "    \n",
    "if arcpy.Exists(os.getcwd() + os.sep + 'resources'):\n",
    "    arcpy.Delete_management(os.getcwd() + os.sep + 'resources');\n",
    "\n",
    "for item in [\n",
    "     'NOAA_14_AL.zip'\n",
    "    ,'NOAA_14_AR.zip'\n",
    "    ,'NOAA_14_CA.zip'\n",
    "    ,'NOAA_14_CO.zip'\n",
    "    ,'NOAA_14_DE.zip'\n",
    "    ,'NOAA_14_FL_GIS.zip'\n",
    "    ,'NOAA_14_GA.zip'\n",
    "    ,'NOAA_14_IA.zip'\n",
    "    ,'NOAA_14_IN.zip'\n",
    "    ,'NOAA_14_KY.zip'\n",
    "    ,'NOAA_14_LA.zip'\n",
    "    ,'NOAA_14_MD.zip'\n",
    "    ,'NOAA_14_MN.zip'\n",
    "    ,'NOAA_14_NE.zip'\n",
    "    ,'NOAA_14_NJ.zip'\n",
    "    ,'NOAA_14_NV.zip'\n",
    "    ,'NOAA_14_OH.zip'\n",
    "    ,'NOAA_14_PA.zip'\n",
    "    ,'NOAA_14_SC.zip'\n",
    "    ,'NOAA_14_TN.zip'\n",
    "    ,'NOAA_14_VA.zip'\n",
    "    ,'NOAA_14_WV.zip'\n",
    "    ,'NRCC_CT.zip'\n",
    "    ,'NRCC_MA.zip'\n",
    "    ,'NRCC_ME.zip'\n",
    "    ,'NRCC_NH.zip'\n",
    "    ,'NRCC_NY.zip'\n",
    "    ,'NRCC_RI.zip'\n",
    "    ,'NRCC_VT.zip'\n",
    "]:\n",
    "    if arcpy.Exists(os.getcwd() + os.sep + 'files' + os.sep + item):\n",
    "        arcpy.Delete_management(os.getcwd() + os.sep + 'files' + os.sep + item);\n",
    "        \n",
    "print(\"scrub complete.\");\n"
   ]
  },
  {
   "cell_type": "code",
   "execution_count": null,
   "metadata": {},
   "outputs": [],
   "source": []
  }
 ],
 "metadata": {
  "kernelspec": {
   "display_name": "Python 3",
   "language": "python",
   "name": "python3"
  },
  "language_info": {
   "codemirror_mode": {
    "name": "ipython",
    "version": 3
   },
   "file_extension": ".py",
   "mimetype": "text/x-python",
   "name": "python",
   "nbconvert_exporter": "python",
   "pygments_lexer": "ipython3",
   "version": "3.7.9"
  }
 },
 "nbformat": 4,
 "nbformat_minor": 4
}
